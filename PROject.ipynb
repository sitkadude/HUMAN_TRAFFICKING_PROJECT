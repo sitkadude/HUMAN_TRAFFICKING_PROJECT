{
 "cells": [
  {
   "cell_type": "markdown",
   "metadata": {},
   "source": [
    "# The Global State of Human Trafficking"
   ]
  },
  {
   "cell_type": "code",
   "execution_count": 3,
   "metadata": {},
   "outputs": [],
   "source": [
    "import os\n",
    "import sqlite3\n",
    "import csv\n",
    "\n",
    "import pandas as pd\n",
    "import numpy as np\n",
    "\n",
    "import seaborn as sns\n",
    "import matplotlib.pyplot as plt"
   ]
  },
  {
   "cell_type": "markdown",
   "metadata": {},
   "source": [
    "CODE to create database and table within the database."
   ]
  },
  {
   "cell_type": "code",
   "execution_count": 4,
   "metadata": {},
   "outputs": [
    {
     "data": {
      "text/plain": [
       "<sqlite3.Cursor at 0x1a185ad8f0>"
      ]
     },
     "execution_count": 4,
     "metadata": {},
     "output_type": "execute_result"
    }
   ],
   "source": [
    "con = sqlite3.connect(\"GlobalDatasetSept2018.db\")\n",
    "cur = con.cursor()\n",
    "cur.execute(\"CREATE TABLE IF NOT EXISTS victims_table (gender STR, majorityEntry STR, majorityStatusAtExploit STR, ageBroad STR, citizenship STR, yearOfRegistration STR, Datasource STR, CountryOfExploitation STR, typeOfExploitConcatenated STR, RecruiterRelationship STR)\")"
   ]
  },
  {
   "cell_type": "markdown",
   "metadata": {},
   "source": [
    "CODE to transfer columns of data to new database."
   ]
  },
  {
   "cell_type": "code",
   "execution_count": 5,
   "metadata": {},
   "outputs": [],
   "source": [
    "with open('Global_Dataset_3_Sept_2018.csv','r') as victims:\n",
    "    dr = csv.DictReader(victims)\n",
    "    to_db = [(i['gender'],\n",
    "              i['majorityEntry'],\n",
    "              i['majorityStatusAtExploit'],\n",
    "              i['ageBroad'],\n",
    "              i['citizenship'],\n",
    "              i['yearOfRegistration'],\n",
    "              i['Datasource'],\n",
    "              i['CountryOfExploitation'],\n",
    "              i['typeOfExploitConcatenated'],\n",
    "              i['RecruiterRelationship']) for i in dr]\n",
    "    cur.executemany(\n",
    "        \"INSERT INTO victims_table VALUES \"\n",
    "        \"(?, ?, ?, ?, ?, ?, ?, ?, ?, ?);\", to_db)    \n",
    "    con.commit()"
   ]
  },
  {
   "cell_type": "markdown",
   "metadata": {},
   "source": [
    "CODE to retrieve data from SQL database into a python object."
   ]
  },
  {
   "cell_type": "code",
   "execution_count": 6,
   "metadata": {},
   "outputs": [],
   "source": [
    "df = pd.read_sql(\"SELECT * FROM victims_table\", con)"
   ]
  },
  {
   "cell_type": "markdown",
   "metadata": {},
   "source": [
    "CODE to replace missing values (\"-99\") with NaN."
   ]
  },
  {
   "cell_type": "code",
   "execution_count": 7,
   "metadata": {},
   "outputs": [],
   "source": [
    "df.replace(-99, np.nan, regex=True, inplace=True)"
   ]
  },
  {
   "cell_type": "markdown",
   "metadata": {},
   "source": [
    "CODE to rename columns in SQL database."
   ]
  },
  {
   "cell_type": "code",
   "execution_count": 8,
   "metadata": {},
   "outputs": [],
   "source": [
    "df.rename(\n",
    "    columns={\n",
    "        'Gender':'Gender',\n",
    "        'majorityEntry': 'Entry Age',\n",
    "        'majorityStatusAtExploit': 'Exploitation Age',\n",
    "        'ageBroad': 'Assistance Age', \n",
    "        'citizenship': 'Country Origin', \n",
    "        'yearOfRegistration': 'Year Registration', \n",
    "        'Datasource': 'Contact Method', \n",
    "        'CountryOfExploitation': 'Country Exploitation',\n",
    "        'typeOfExploitConcatenated': 'Exploitation Type',\n",
    "        'recruitment_relation': 'Recruiter Relation'\n",
    "    }, \n",
    "    inplace=True)"
   ]
  },
  {
   "cell_type": "code",
   "execution_count": 32,
   "metadata": {},
   "outputs": [
    {
     "data": {
      "text/html": [
       "<div>\n",
       "<style scoped>\n",
       "    .dataframe tbody tr th:only-of-type {\n",
       "        vertical-align: middle;\n",
       "    }\n",
       "\n",
       "    .dataframe tbody tr th {\n",
       "        vertical-align: top;\n",
       "    }\n",
       "\n",
       "    .dataframe thead th {\n",
       "        text-align: right;\n",
       "    }\n",
       "</style>\n",
       "<table border=\"1\" class=\"dataframe\">\n",
       "  <thead>\n",
       "    <tr style=\"text-align: right;\">\n",
       "      <th></th>\n",
       "      <th>Gender</th>\n",
       "      <th>Entry Age</th>\n",
       "      <th>Exploitation Age</th>\n",
       "      <th>Assistance Age</th>\n",
       "      <th>Country Origin</th>\n",
       "      <th>Year Registration</th>\n",
       "      <th>Contact Method</th>\n",
       "      <th>Country Exploitation</th>\n",
       "      <th>Exploitation Type</th>\n",
       "      <th>Recruiter Relation</th>\n",
       "    </tr>\n",
       "  </thead>\n",
       "  <tbody>\n",
       "    <tr>\n",
       "      <th>0</th>\n",
       "      <td>NaN</td>\n",
       "      <td>NaN</td>\n",
       "      <td>NaN</td>\n",
       "      <td>NaN</td>\n",
       "      <td>NaN</td>\n",
       "      <td>2002</td>\n",
       "      <td>Case Management</td>\n",
       "      <td>NaN</td>\n",
       "      <td>NaN</td>\n",
       "      <td>None</td>\n",
       "    </tr>\n",
       "    <tr>\n",
       "      <th>1</th>\n",
       "      <td>NaN</td>\n",
       "      <td>NaN</td>\n",
       "      <td>NaN</td>\n",
       "      <td>NaN</td>\n",
       "      <td>NaN</td>\n",
       "      <td>2002</td>\n",
       "      <td>Case Management</td>\n",
       "      <td>NaN</td>\n",
       "      <td>NaN</td>\n",
       "      <td>None</td>\n",
       "    </tr>\n",
       "    <tr>\n",
       "      <th>2</th>\n",
       "      <td>NaN</td>\n",
       "      <td>NaN</td>\n",
       "      <td>NaN</td>\n",
       "      <td>NaN</td>\n",
       "      <td>NaN</td>\n",
       "      <td>2002</td>\n",
       "      <td>Case Management</td>\n",
       "      <td>NaN</td>\n",
       "      <td>NaN</td>\n",
       "      <td>None</td>\n",
       "    </tr>\n",
       "    <tr>\n",
       "      <th>3</th>\n",
       "      <td>NaN</td>\n",
       "      <td>NaN</td>\n",
       "      <td>NaN</td>\n",
       "      <td>NaN</td>\n",
       "      <td>NaN</td>\n",
       "      <td>2002</td>\n",
       "      <td>Case Management</td>\n",
       "      <td>NaN</td>\n",
       "      <td>NaN</td>\n",
       "      <td>None</td>\n",
       "    </tr>\n",
       "    <tr>\n",
       "      <th>4</th>\n",
       "      <td>NaN</td>\n",
       "      <td>NaN</td>\n",
       "      <td>NaN</td>\n",
       "      <td>NaN</td>\n",
       "      <td>NaN</td>\n",
       "      <td>2002</td>\n",
       "      <td>Case Management</td>\n",
       "      <td>NaN</td>\n",
       "      <td>NaN</td>\n",
       "      <td>None</td>\n",
       "    </tr>\n",
       "    <tr>\n",
       "      <th>5</th>\n",
       "      <td>NaN</td>\n",
       "      <td>NaN</td>\n",
       "      <td>NaN</td>\n",
       "      <td>NaN</td>\n",
       "      <td>NaN</td>\n",
       "      <td>2002</td>\n",
       "      <td>Case Management</td>\n",
       "      <td>NaN</td>\n",
       "      <td>NaN</td>\n",
       "      <td>None</td>\n",
       "    </tr>\n",
       "    <tr>\n",
       "      <th>6</th>\n",
       "      <td>NaN</td>\n",
       "      <td>NaN</td>\n",
       "      <td>NaN</td>\n",
       "      <td>NaN</td>\n",
       "      <td>NaN</td>\n",
       "      <td>2002</td>\n",
       "      <td>Case Management</td>\n",
       "      <td>NaN</td>\n",
       "      <td>NaN</td>\n",
       "      <td>None</td>\n",
       "    </tr>\n",
       "    <tr>\n",
       "      <th>7</th>\n",
       "      <td>NaN</td>\n",
       "      <td>NaN</td>\n",
       "      <td>NaN</td>\n",
       "      <td>NaN</td>\n",
       "      <td>NaN</td>\n",
       "      <td>2002</td>\n",
       "      <td>Case Management</td>\n",
       "      <td>NaN</td>\n",
       "      <td>NaN</td>\n",
       "      <td>None</td>\n",
       "    </tr>\n",
       "    <tr>\n",
       "      <th>8</th>\n",
       "      <td>NaN</td>\n",
       "      <td>NaN</td>\n",
       "      <td>NaN</td>\n",
       "      <td>NaN</td>\n",
       "      <td>NaN</td>\n",
       "      <td>2002</td>\n",
       "      <td>Case Management</td>\n",
       "      <td>NaN</td>\n",
       "      <td>NaN</td>\n",
       "      <td>None</td>\n",
       "    </tr>\n",
       "    <tr>\n",
       "      <th>9</th>\n",
       "      <td>NaN</td>\n",
       "      <td>NaN</td>\n",
       "      <td>NaN</td>\n",
       "      <td>NaN</td>\n",
       "      <td>NaN</td>\n",
       "      <td>2002</td>\n",
       "      <td>Case Management</td>\n",
       "      <td>NaN</td>\n",
       "      <td>NaN</td>\n",
       "      <td>None</td>\n",
       "    </tr>\n",
       "    <tr>\n",
       "      <th>10</th>\n",
       "      <td>NaN</td>\n",
       "      <td>NaN</td>\n",
       "      <td>NaN</td>\n",
       "      <td>NaN</td>\n",
       "      <td>NaN</td>\n",
       "      <td>2002</td>\n",
       "      <td>Case Management</td>\n",
       "      <td>NaN</td>\n",
       "      <td>NaN</td>\n",
       "      <td>None</td>\n",
       "    </tr>\n",
       "    <tr>\n",
       "      <th>11</th>\n",
       "      <td>NaN</td>\n",
       "      <td>NaN</td>\n",
       "      <td>NaN</td>\n",
       "      <td>NaN</td>\n",
       "      <td>NaN</td>\n",
       "      <td>2002</td>\n",
       "      <td>Case Management</td>\n",
       "      <td>NaN</td>\n",
       "      <td>NaN</td>\n",
       "      <td>None</td>\n",
       "    </tr>\n",
       "    <tr>\n",
       "      <th>12</th>\n",
       "      <td>NaN</td>\n",
       "      <td>NaN</td>\n",
       "      <td>NaN</td>\n",
       "      <td>NaN</td>\n",
       "      <td>NaN</td>\n",
       "      <td>2002</td>\n",
       "      <td>Case Management</td>\n",
       "      <td>NaN</td>\n",
       "      <td>NaN</td>\n",
       "      <td>None</td>\n",
       "    </tr>\n",
       "    <tr>\n",
       "      <th>13</th>\n",
       "      <td>Female</td>\n",
       "      <td>NaN</td>\n",
       "      <td>NaN</td>\n",
       "      <td>18--20</td>\n",
       "      <td>CO</td>\n",
       "      <td>2002</td>\n",
       "      <td>Case Management</td>\n",
       "      <td>NaN</td>\n",
       "      <td>Sexual exploitation</td>\n",
       "      <td>None</td>\n",
       "    </tr>\n",
       "    <tr>\n",
       "      <th>14</th>\n",
       "      <td>Female</td>\n",
       "      <td>NaN</td>\n",
       "      <td>NaN</td>\n",
       "      <td>18--20</td>\n",
       "      <td>CO</td>\n",
       "      <td>2002</td>\n",
       "      <td>Case Management</td>\n",
       "      <td>NaN</td>\n",
       "      <td>Sexual exploitation</td>\n",
       "      <td>None</td>\n",
       "    </tr>\n",
       "    <tr>\n",
       "      <th>15</th>\n",
       "      <td>Female</td>\n",
       "      <td>NaN</td>\n",
       "      <td>NaN</td>\n",
       "      <td>18--20</td>\n",
       "      <td>CO</td>\n",
       "      <td>2002</td>\n",
       "      <td>Case Management</td>\n",
       "      <td>NaN</td>\n",
       "      <td>Sexual exploitation</td>\n",
       "      <td>None</td>\n",
       "    </tr>\n",
       "    <tr>\n",
       "      <th>16</th>\n",
       "      <td>Female</td>\n",
       "      <td>NaN</td>\n",
       "      <td>NaN</td>\n",
       "      <td>18--20</td>\n",
       "      <td>CO</td>\n",
       "      <td>2002</td>\n",
       "      <td>Case Management</td>\n",
       "      <td>NaN</td>\n",
       "      <td>Sexual exploitation</td>\n",
       "      <td>None</td>\n",
       "    </tr>\n",
       "    <tr>\n",
       "      <th>17</th>\n",
       "      <td>Female</td>\n",
       "      <td>NaN</td>\n",
       "      <td>NaN</td>\n",
       "      <td>18--20</td>\n",
       "      <td>CO</td>\n",
       "      <td>2002</td>\n",
       "      <td>Case Management</td>\n",
       "      <td>NaN</td>\n",
       "      <td>Sexual exploitation</td>\n",
       "      <td>None</td>\n",
       "    </tr>\n",
       "    <tr>\n",
       "      <th>18</th>\n",
       "      <td>Female</td>\n",
       "      <td>NaN</td>\n",
       "      <td>NaN</td>\n",
       "      <td>18--20</td>\n",
       "      <td>CO</td>\n",
       "      <td>2002</td>\n",
       "      <td>Case Management</td>\n",
       "      <td>NaN</td>\n",
       "      <td>Sexual exploitation</td>\n",
       "      <td>None</td>\n",
       "    </tr>\n",
       "    <tr>\n",
       "      <th>19</th>\n",
       "      <td>Female</td>\n",
       "      <td>NaN</td>\n",
       "      <td>NaN</td>\n",
       "      <td>18--20</td>\n",
       "      <td>CO</td>\n",
       "      <td>2002</td>\n",
       "      <td>Case Management</td>\n",
       "      <td>NaN</td>\n",
       "      <td>Sexual exploitation</td>\n",
       "      <td>None</td>\n",
       "    </tr>\n",
       "    <tr>\n",
       "      <th>20</th>\n",
       "      <td>Female</td>\n",
       "      <td>NaN</td>\n",
       "      <td>NaN</td>\n",
       "      <td>18--20</td>\n",
       "      <td>CO</td>\n",
       "      <td>2002</td>\n",
       "      <td>Case Management</td>\n",
       "      <td>NaN</td>\n",
       "      <td>Sexual exploitation</td>\n",
       "      <td>None</td>\n",
       "    </tr>\n",
       "    <tr>\n",
       "      <th>21</th>\n",
       "      <td>Female</td>\n",
       "      <td>NaN</td>\n",
       "      <td>NaN</td>\n",
       "      <td>18--20</td>\n",
       "      <td>CO</td>\n",
       "      <td>2002</td>\n",
       "      <td>Case Management</td>\n",
       "      <td>NaN</td>\n",
       "      <td>Sexual exploitation</td>\n",
       "      <td>None</td>\n",
       "    </tr>\n",
       "    <tr>\n",
       "      <th>22</th>\n",
       "      <td>Female</td>\n",
       "      <td>NaN</td>\n",
       "      <td>NaN</td>\n",
       "      <td>18--20</td>\n",
       "      <td>CO</td>\n",
       "      <td>2002</td>\n",
       "      <td>Case Management</td>\n",
       "      <td>NaN</td>\n",
       "      <td>Sexual exploitation</td>\n",
       "      <td>None</td>\n",
       "    </tr>\n",
       "    <tr>\n",
       "      <th>23</th>\n",
       "      <td>Female</td>\n",
       "      <td>NaN</td>\n",
       "      <td>NaN</td>\n",
       "      <td>18--20</td>\n",
       "      <td>CO</td>\n",
       "      <td>2002</td>\n",
       "      <td>Case Management</td>\n",
       "      <td>NaN</td>\n",
       "      <td>Sexual exploitation</td>\n",
       "      <td>None</td>\n",
       "    </tr>\n",
       "    <tr>\n",
       "      <th>24</th>\n",
       "      <td>Female</td>\n",
       "      <td>NaN</td>\n",
       "      <td>NaN</td>\n",
       "      <td>18--20</td>\n",
       "      <td>MD</td>\n",
       "      <td>2002</td>\n",
       "      <td>Case Management</td>\n",
       "      <td>NaN</td>\n",
       "      <td>NaN</td>\n",
       "      <td>None</td>\n",
       "    </tr>\n",
       "    <tr>\n",
       "      <th>25</th>\n",
       "      <td>Female</td>\n",
       "      <td>NaN</td>\n",
       "      <td>NaN</td>\n",
       "      <td>18--20</td>\n",
       "      <td>MD</td>\n",
       "      <td>2002</td>\n",
       "      <td>Case Management</td>\n",
       "      <td>NaN</td>\n",
       "      <td>NaN</td>\n",
       "      <td>None</td>\n",
       "    </tr>\n",
       "    <tr>\n",
       "      <th>26</th>\n",
       "      <td>Female</td>\n",
       "      <td>NaN</td>\n",
       "      <td>NaN</td>\n",
       "      <td>18--20</td>\n",
       "      <td>MD</td>\n",
       "      <td>2002</td>\n",
       "      <td>Case Management</td>\n",
       "      <td>NaN</td>\n",
       "      <td>NaN</td>\n",
       "      <td>None</td>\n",
       "    </tr>\n",
       "    <tr>\n",
       "      <th>27</th>\n",
       "      <td>Female</td>\n",
       "      <td>NaN</td>\n",
       "      <td>NaN</td>\n",
       "      <td>18--20</td>\n",
       "      <td>MD</td>\n",
       "      <td>2002</td>\n",
       "      <td>Case Management</td>\n",
       "      <td>NaN</td>\n",
       "      <td>NaN</td>\n",
       "      <td>None</td>\n",
       "    </tr>\n",
       "    <tr>\n",
       "      <th>28</th>\n",
       "      <td>Female</td>\n",
       "      <td>NaN</td>\n",
       "      <td>NaN</td>\n",
       "      <td>18--20</td>\n",
       "      <td>MD</td>\n",
       "      <td>2002</td>\n",
       "      <td>Case Management</td>\n",
       "      <td>NaN</td>\n",
       "      <td>NaN</td>\n",
       "      <td>None</td>\n",
       "    </tr>\n",
       "    <tr>\n",
       "      <th>29</th>\n",
       "      <td>Female</td>\n",
       "      <td>NaN</td>\n",
       "      <td>NaN</td>\n",
       "      <td>18--20</td>\n",
       "      <td>MD</td>\n",
       "      <td>2002</td>\n",
       "      <td>Case Management</td>\n",
       "      <td>NaN</td>\n",
       "      <td>NaN</td>\n",
       "      <td>None</td>\n",
       "    </tr>\n",
       "    <tr>\n",
       "      <th>...</th>\n",
       "      <td>...</td>\n",
       "      <td>...</td>\n",
       "      <td>...</td>\n",
       "      <td>...</td>\n",
       "      <td>...</td>\n",
       "      <td>...</td>\n",
       "      <td>...</td>\n",
       "      <td>...</td>\n",
       "      <td>...</td>\n",
       "      <td>...</td>\n",
       "    </tr>\n",
       "    <tr>\n",
       "      <th>554310</th>\n",
       "      <td>Male</td>\n",
       "      <td>NaN</td>\n",
       "      <td>NaN</td>\n",
       "      <td>NaN</td>\n",
       "      <td>KH</td>\n",
       "      <td>2018</td>\n",
       "      <td>Case Management</td>\n",
       "      <td>KH</td>\n",
       "      <td>Sexual exploitation</td>\n",
       "      <td>Unknown</td>\n",
       "    </tr>\n",
       "    <tr>\n",
       "      <th>554311</th>\n",
       "      <td>Male</td>\n",
       "      <td>NaN</td>\n",
       "      <td>Minor</td>\n",
       "      <td>NaN</td>\n",
       "      <td>KH</td>\n",
       "      <td>2018</td>\n",
       "      <td>Case Management</td>\n",
       "      <td>KH</td>\n",
       "      <td>Sexual exploitation</td>\n",
       "      <td>Unknown</td>\n",
       "    </tr>\n",
       "    <tr>\n",
       "      <th>554312</th>\n",
       "      <td>Male</td>\n",
       "      <td>NaN</td>\n",
       "      <td>NaN</td>\n",
       "      <td>NaN</td>\n",
       "      <td>KH</td>\n",
       "      <td>2018</td>\n",
       "      <td>Case Management</td>\n",
       "      <td>KH</td>\n",
       "      <td>Sexual exploitation</td>\n",
       "      <td>Unknown</td>\n",
       "    </tr>\n",
       "    <tr>\n",
       "      <th>554313</th>\n",
       "      <td>Male</td>\n",
       "      <td>NaN</td>\n",
       "      <td>Minor</td>\n",
       "      <td>NaN</td>\n",
       "      <td>KH</td>\n",
       "      <td>2018</td>\n",
       "      <td>Case Management</td>\n",
       "      <td>KH</td>\n",
       "      <td>Sexual exploitation</td>\n",
       "      <td>Unknown</td>\n",
       "    </tr>\n",
       "    <tr>\n",
       "      <th>554314</th>\n",
       "      <td>Male</td>\n",
       "      <td>NaN</td>\n",
       "      <td>Minor</td>\n",
       "      <td>NaN</td>\n",
       "      <td>KH</td>\n",
       "      <td>2018</td>\n",
       "      <td>Case Management</td>\n",
       "      <td>KH</td>\n",
       "      <td>Sexual exploitation</td>\n",
       "      <td>Unknown</td>\n",
       "    </tr>\n",
       "    <tr>\n",
       "      <th>554315</th>\n",
       "      <td>Male</td>\n",
       "      <td>NaN</td>\n",
       "      <td>Minor</td>\n",
       "      <td>NaN</td>\n",
       "      <td>KH</td>\n",
       "      <td>2018</td>\n",
       "      <td>Case Management</td>\n",
       "      <td>KH</td>\n",
       "      <td>Sexual exploitation</td>\n",
       "      <td>Unknown</td>\n",
       "    </tr>\n",
       "    <tr>\n",
       "      <th>554316</th>\n",
       "      <td>Male</td>\n",
       "      <td>NaN</td>\n",
       "      <td>Minor</td>\n",
       "      <td>NaN</td>\n",
       "      <td>KH</td>\n",
       "      <td>2018</td>\n",
       "      <td>Case Management</td>\n",
       "      <td>KH</td>\n",
       "      <td>Sexual exploitation</td>\n",
       "      <td>Unknown</td>\n",
       "    </tr>\n",
       "    <tr>\n",
       "      <th>554317</th>\n",
       "      <td>Male</td>\n",
       "      <td>NaN</td>\n",
       "      <td>Minor</td>\n",
       "      <td>NaN</td>\n",
       "      <td>KH</td>\n",
       "      <td>2018</td>\n",
       "      <td>Case Management</td>\n",
       "      <td>KH</td>\n",
       "      <td>Sexual exploitation</td>\n",
       "      <td>Unknown</td>\n",
       "    </tr>\n",
       "    <tr>\n",
       "      <th>554318</th>\n",
       "      <td>Male</td>\n",
       "      <td>NaN</td>\n",
       "      <td>Minor</td>\n",
       "      <td>NaN</td>\n",
       "      <td>KH</td>\n",
       "      <td>2018</td>\n",
       "      <td>Case Management</td>\n",
       "      <td>KH</td>\n",
       "      <td>Sexual exploitation</td>\n",
       "      <td>Unknown</td>\n",
       "    </tr>\n",
       "    <tr>\n",
       "      <th>554319</th>\n",
       "      <td>Male</td>\n",
       "      <td>NaN</td>\n",
       "      <td>Minor</td>\n",
       "      <td>NaN</td>\n",
       "      <td>KH</td>\n",
       "      <td>2018</td>\n",
       "      <td>Case Management</td>\n",
       "      <td>KH</td>\n",
       "      <td>Sexual exploitation</td>\n",
       "      <td>Unknown</td>\n",
       "    </tr>\n",
       "    <tr>\n",
       "      <th>554320</th>\n",
       "      <td>Male</td>\n",
       "      <td>NaN</td>\n",
       "      <td>Minor</td>\n",
       "      <td>NaN</td>\n",
       "      <td>KH</td>\n",
       "      <td>2018</td>\n",
       "      <td>Case Management</td>\n",
       "      <td>KH</td>\n",
       "      <td>Sexual exploitation</td>\n",
       "      <td>Unknown</td>\n",
       "    </tr>\n",
       "    <tr>\n",
       "      <th>554321</th>\n",
       "      <td>Male</td>\n",
       "      <td>NaN</td>\n",
       "      <td>Minor</td>\n",
       "      <td>NaN</td>\n",
       "      <td>KH</td>\n",
       "      <td>2018</td>\n",
       "      <td>Case Management</td>\n",
       "      <td>KH</td>\n",
       "      <td>Sexual exploitation</td>\n",
       "      <td>Unknown</td>\n",
       "    </tr>\n",
       "    <tr>\n",
       "      <th>554322</th>\n",
       "      <td>Male</td>\n",
       "      <td>NaN</td>\n",
       "      <td>Minor</td>\n",
       "      <td>NaN</td>\n",
       "      <td>KH</td>\n",
       "      <td>2018</td>\n",
       "      <td>Case Management</td>\n",
       "      <td>KH</td>\n",
       "      <td>Sexual exploitation</td>\n",
       "      <td>Unknown</td>\n",
       "    </tr>\n",
       "    <tr>\n",
       "      <th>554323</th>\n",
       "      <td>Male</td>\n",
       "      <td>NaN</td>\n",
       "      <td>Minor</td>\n",
       "      <td>NaN</td>\n",
       "      <td>KH</td>\n",
       "      <td>2018</td>\n",
       "      <td>Case Management</td>\n",
       "      <td>KH</td>\n",
       "      <td>Sexual exploitation</td>\n",
       "      <td>Unknown</td>\n",
       "    </tr>\n",
       "    <tr>\n",
       "      <th>554324</th>\n",
       "      <td>Male</td>\n",
       "      <td>NaN</td>\n",
       "      <td>Minor</td>\n",
       "      <td>NaN</td>\n",
       "      <td>KH</td>\n",
       "      <td>2018</td>\n",
       "      <td>Case Management</td>\n",
       "      <td>KH</td>\n",
       "      <td>Sexual exploitation</td>\n",
       "      <td>Unknown</td>\n",
       "    </tr>\n",
       "    <tr>\n",
       "      <th>554325</th>\n",
       "      <td>Male</td>\n",
       "      <td>NaN</td>\n",
       "      <td>Minor</td>\n",
       "      <td>NaN</td>\n",
       "      <td>KH</td>\n",
       "      <td>2018</td>\n",
       "      <td>Case Management</td>\n",
       "      <td>KH</td>\n",
       "      <td>Sexual exploitation</td>\n",
       "      <td>Unknown</td>\n",
       "    </tr>\n",
       "    <tr>\n",
       "      <th>554326</th>\n",
       "      <td>Male</td>\n",
       "      <td>NaN</td>\n",
       "      <td>Minor</td>\n",
       "      <td>NaN</td>\n",
       "      <td>KH</td>\n",
       "      <td>2018</td>\n",
       "      <td>Case Management</td>\n",
       "      <td>KH</td>\n",
       "      <td>Sexual exploitation</td>\n",
       "      <td>Unknown</td>\n",
       "    </tr>\n",
       "    <tr>\n",
       "      <th>554327</th>\n",
       "      <td>Male</td>\n",
       "      <td>NaN</td>\n",
       "      <td>Minor</td>\n",
       "      <td>NaN</td>\n",
       "      <td>KH</td>\n",
       "      <td>2018</td>\n",
       "      <td>Case Management</td>\n",
       "      <td>KH</td>\n",
       "      <td>Sexual exploitation</td>\n",
       "      <td>Unknown</td>\n",
       "    </tr>\n",
       "    <tr>\n",
       "      <th>554328</th>\n",
       "      <td>Male</td>\n",
       "      <td>NaN</td>\n",
       "      <td>Minor</td>\n",
       "      <td>NaN</td>\n",
       "      <td>KH</td>\n",
       "      <td>2018</td>\n",
       "      <td>Case Management</td>\n",
       "      <td>KH</td>\n",
       "      <td>Sexual exploitation</td>\n",
       "      <td>Unknown</td>\n",
       "    </tr>\n",
       "    <tr>\n",
       "      <th>554329</th>\n",
       "      <td>Male</td>\n",
       "      <td>NaN</td>\n",
       "      <td>Minor</td>\n",
       "      <td>NaN</td>\n",
       "      <td>KH</td>\n",
       "      <td>2018</td>\n",
       "      <td>Case Management</td>\n",
       "      <td>KH</td>\n",
       "      <td>Sexual exploitation</td>\n",
       "      <td>Unknown</td>\n",
       "    </tr>\n",
       "    <tr>\n",
       "      <th>554330</th>\n",
       "      <td>Male</td>\n",
       "      <td>NaN</td>\n",
       "      <td>Minor</td>\n",
       "      <td>NaN</td>\n",
       "      <td>KH</td>\n",
       "      <td>2018</td>\n",
       "      <td>Case Management</td>\n",
       "      <td>KH</td>\n",
       "      <td>Sexual exploitation</td>\n",
       "      <td>Unknown</td>\n",
       "    </tr>\n",
       "    <tr>\n",
       "      <th>554331</th>\n",
       "      <td>Male</td>\n",
       "      <td>NaN</td>\n",
       "      <td>Minor</td>\n",
       "      <td>NaN</td>\n",
       "      <td>KH</td>\n",
       "      <td>2018</td>\n",
       "      <td>Case Management</td>\n",
       "      <td>KH</td>\n",
       "      <td>Sexual exploitation</td>\n",
       "      <td>Unknown</td>\n",
       "    </tr>\n",
       "    <tr>\n",
       "      <th>554332</th>\n",
       "      <td>Male</td>\n",
       "      <td>NaN</td>\n",
       "      <td>Minor</td>\n",
       "      <td>NaN</td>\n",
       "      <td>KH</td>\n",
       "      <td>2018</td>\n",
       "      <td>Case Management</td>\n",
       "      <td>KH</td>\n",
       "      <td>Sexual exploitation</td>\n",
       "      <td>Unknown</td>\n",
       "    </tr>\n",
       "    <tr>\n",
       "      <th>554333</th>\n",
       "      <td>Male</td>\n",
       "      <td>NaN</td>\n",
       "      <td>Minor</td>\n",
       "      <td>NaN</td>\n",
       "      <td>KH</td>\n",
       "      <td>2018</td>\n",
       "      <td>Case Management</td>\n",
       "      <td>KH</td>\n",
       "      <td>Sexual exploitation</td>\n",
       "      <td>Unknown</td>\n",
       "    </tr>\n",
       "    <tr>\n",
       "      <th>554334</th>\n",
       "      <td>Male</td>\n",
       "      <td>NaN</td>\n",
       "      <td>Minor</td>\n",
       "      <td>NaN</td>\n",
       "      <td>KH</td>\n",
       "      <td>2018</td>\n",
       "      <td>Case Management</td>\n",
       "      <td>KH</td>\n",
       "      <td>Sexual exploitation</td>\n",
       "      <td>Unknown</td>\n",
       "    </tr>\n",
       "    <tr>\n",
       "      <th>554335</th>\n",
       "      <td>Male</td>\n",
       "      <td>NaN</td>\n",
       "      <td>Minor</td>\n",
       "      <td>NaN</td>\n",
       "      <td>KH</td>\n",
       "      <td>2018</td>\n",
       "      <td>Case Management</td>\n",
       "      <td>KH</td>\n",
       "      <td>Sexual exploitation</td>\n",
       "      <td>Unknown</td>\n",
       "    </tr>\n",
       "    <tr>\n",
       "      <th>554336</th>\n",
       "      <td>Male</td>\n",
       "      <td>NaN</td>\n",
       "      <td>Minor</td>\n",
       "      <td>NaN</td>\n",
       "      <td>KH</td>\n",
       "      <td>2018</td>\n",
       "      <td>Case Management</td>\n",
       "      <td>KH</td>\n",
       "      <td>Sexual exploitation</td>\n",
       "      <td>Unknown</td>\n",
       "    </tr>\n",
       "    <tr>\n",
       "      <th>554337</th>\n",
       "      <td>Male</td>\n",
       "      <td>NaN</td>\n",
       "      <td>Minor</td>\n",
       "      <td>NaN</td>\n",
       "      <td>KH</td>\n",
       "      <td>2018</td>\n",
       "      <td>Case Management</td>\n",
       "      <td>KH</td>\n",
       "      <td>Sexual exploitation</td>\n",
       "      <td>Unknown</td>\n",
       "    </tr>\n",
       "    <tr>\n",
       "      <th>554338</th>\n",
       "      <td>Male</td>\n",
       "      <td>NaN</td>\n",
       "      <td>Minor</td>\n",
       "      <td>NaN</td>\n",
       "      <td>KH</td>\n",
       "      <td>2018</td>\n",
       "      <td>Case Management</td>\n",
       "      <td>KH</td>\n",
       "      <td>Sexual exploitation</td>\n",
       "      <td>Unknown</td>\n",
       "    </tr>\n",
       "    <tr>\n",
       "      <th>554339</th>\n",
       "      <td>Male</td>\n",
       "      <td>NaN</td>\n",
       "      <td>Adult</td>\n",
       "      <td>NaN</td>\n",
       "      <td>KH</td>\n",
       "      <td>2018</td>\n",
       "      <td>Case Management</td>\n",
       "      <td>KH</td>\n",
       "      <td>Sexual exploitation</td>\n",
       "      <td>Unknown</td>\n",
       "    </tr>\n",
       "  </tbody>\n",
       "</table>\n",
       "<p>554340 rows × 10 columns</p>\n",
       "</div>"
      ],
      "text/plain": [
       "        Gender Entry Age Exploitation Age Assistance Age Country Origin  \\\n",
       "0          NaN       NaN              NaN            NaN            NaN   \n",
       "1          NaN       NaN              NaN            NaN            NaN   \n",
       "2          NaN       NaN              NaN            NaN            NaN   \n",
       "3          NaN       NaN              NaN            NaN            NaN   \n",
       "4          NaN       NaN              NaN            NaN            NaN   \n",
       "5          NaN       NaN              NaN            NaN            NaN   \n",
       "6          NaN       NaN              NaN            NaN            NaN   \n",
       "7          NaN       NaN              NaN            NaN            NaN   \n",
       "8          NaN       NaN              NaN            NaN            NaN   \n",
       "9          NaN       NaN              NaN            NaN            NaN   \n",
       "10         NaN       NaN              NaN            NaN            NaN   \n",
       "11         NaN       NaN              NaN            NaN            NaN   \n",
       "12         NaN       NaN              NaN            NaN            NaN   \n",
       "13      Female       NaN              NaN         18--20             CO   \n",
       "14      Female       NaN              NaN         18--20             CO   \n",
       "15      Female       NaN              NaN         18--20             CO   \n",
       "16      Female       NaN              NaN         18--20             CO   \n",
       "17      Female       NaN              NaN         18--20             CO   \n",
       "18      Female       NaN              NaN         18--20             CO   \n",
       "19      Female       NaN              NaN         18--20             CO   \n",
       "20      Female       NaN              NaN         18--20             CO   \n",
       "21      Female       NaN              NaN         18--20             CO   \n",
       "22      Female       NaN              NaN         18--20             CO   \n",
       "23      Female       NaN              NaN         18--20             CO   \n",
       "24      Female       NaN              NaN         18--20             MD   \n",
       "25      Female       NaN              NaN         18--20             MD   \n",
       "26      Female       NaN              NaN         18--20             MD   \n",
       "27      Female       NaN              NaN         18--20             MD   \n",
       "28      Female       NaN              NaN         18--20             MD   \n",
       "29      Female       NaN              NaN         18--20             MD   \n",
       "...        ...       ...              ...            ...            ...   \n",
       "554310    Male       NaN              NaN            NaN             KH   \n",
       "554311    Male       NaN            Minor            NaN             KH   \n",
       "554312    Male       NaN              NaN            NaN             KH   \n",
       "554313    Male       NaN            Minor            NaN             KH   \n",
       "554314    Male       NaN            Minor            NaN             KH   \n",
       "554315    Male       NaN            Minor            NaN             KH   \n",
       "554316    Male       NaN            Minor            NaN             KH   \n",
       "554317    Male       NaN            Minor            NaN             KH   \n",
       "554318    Male       NaN            Minor            NaN             KH   \n",
       "554319    Male       NaN            Minor            NaN             KH   \n",
       "554320    Male       NaN            Minor            NaN             KH   \n",
       "554321    Male       NaN            Minor            NaN             KH   \n",
       "554322    Male       NaN            Minor            NaN             KH   \n",
       "554323    Male       NaN            Minor            NaN             KH   \n",
       "554324    Male       NaN            Minor            NaN             KH   \n",
       "554325    Male       NaN            Minor            NaN             KH   \n",
       "554326    Male       NaN            Minor            NaN             KH   \n",
       "554327    Male       NaN            Minor            NaN             KH   \n",
       "554328    Male       NaN            Minor            NaN             KH   \n",
       "554329    Male       NaN            Minor            NaN             KH   \n",
       "554330    Male       NaN            Minor            NaN             KH   \n",
       "554331    Male       NaN            Minor            NaN             KH   \n",
       "554332    Male       NaN            Minor            NaN             KH   \n",
       "554333    Male       NaN            Minor            NaN             KH   \n",
       "554334    Male       NaN            Minor            NaN             KH   \n",
       "554335    Male       NaN            Minor            NaN             KH   \n",
       "554336    Male       NaN            Minor            NaN             KH   \n",
       "554337    Male       NaN            Minor            NaN             KH   \n",
       "554338    Male       NaN            Minor            NaN             KH   \n",
       "554339    Male       NaN            Adult            NaN             KH   \n",
       "\n",
       "        Year Registration   Contact Method Country Exploitation  \\\n",
       "0                    2002  Case Management                  NaN   \n",
       "1                    2002  Case Management                  NaN   \n",
       "2                    2002  Case Management                  NaN   \n",
       "3                    2002  Case Management                  NaN   \n",
       "4                    2002  Case Management                  NaN   \n",
       "5                    2002  Case Management                  NaN   \n",
       "6                    2002  Case Management                  NaN   \n",
       "7                    2002  Case Management                  NaN   \n",
       "8                    2002  Case Management                  NaN   \n",
       "9                    2002  Case Management                  NaN   \n",
       "10                   2002  Case Management                  NaN   \n",
       "11                   2002  Case Management                  NaN   \n",
       "12                   2002  Case Management                  NaN   \n",
       "13                   2002  Case Management                  NaN   \n",
       "14                   2002  Case Management                  NaN   \n",
       "15                   2002  Case Management                  NaN   \n",
       "16                   2002  Case Management                  NaN   \n",
       "17                   2002  Case Management                  NaN   \n",
       "18                   2002  Case Management                  NaN   \n",
       "19                   2002  Case Management                  NaN   \n",
       "20                   2002  Case Management                  NaN   \n",
       "21                   2002  Case Management                  NaN   \n",
       "22                   2002  Case Management                  NaN   \n",
       "23                   2002  Case Management                  NaN   \n",
       "24                   2002  Case Management                  NaN   \n",
       "25                   2002  Case Management                  NaN   \n",
       "26                   2002  Case Management                  NaN   \n",
       "27                   2002  Case Management                  NaN   \n",
       "28                   2002  Case Management                  NaN   \n",
       "29                   2002  Case Management                  NaN   \n",
       "...                   ...              ...                  ...   \n",
       "554310               2018  Case Management                   KH   \n",
       "554311               2018  Case Management                   KH   \n",
       "554312               2018  Case Management                   KH   \n",
       "554313               2018  Case Management                   KH   \n",
       "554314               2018  Case Management                   KH   \n",
       "554315               2018  Case Management                   KH   \n",
       "554316               2018  Case Management                   KH   \n",
       "554317               2018  Case Management                   KH   \n",
       "554318               2018  Case Management                   KH   \n",
       "554319               2018  Case Management                   KH   \n",
       "554320               2018  Case Management                   KH   \n",
       "554321               2018  Case Management                   KH   \n",
       "554322               2018  Case Management                   KH   \n",
       "554323               2018  Case Management                   KH   \n",
       "554324               2018  Case Management                   KH   \n",
       "554325               2018  Case Management                   KH   \n",
       "554326               2018  Case Management                   KH   \n",
       "554327               2018  Case Management                   KH   \n",
       "554328               2018  Case Management                   KH   \n",
       "554329               2018  Case Management                   KH   \n",
       "554330               2018  Case Management                   KH   \n",
       "554331               2018  Case Management                   KH   \n",
       "554332               2018  Case Management                   KH   \n",
       "554333               2018  Case Management                   KH   \n",
       "554334               2018  Case Management                   KH   \n",
       "554335               2018  Case Management                   KH   \n",
       "554336               2018  Case Management                   KH   \n",
       "554337               2018  Case Management                   KH   \n",
       "554338               2018  Case Management                   KH   \n",
       "554339               2018  Case Management                   KH   \n",
       "\n",
       "          Exploitation Type Recruiter Relation  \n",
       "0                       NaN               None  \n",
       "1                       NaN               None  \n",
       "2                       NaN               None  \n",
       "3                       NaN               None  \n",
       "4                       NaN               None  \n",
       "5                       NaN               None  \n",
       "6                       NaN               None  \n",
       "7                       NaN               None  \n",
       "8                       NaN               None  \n",
       "9                       NaN               None  \n",
       "10                      NaN               None  \n",
       "11                      NaN               None  \n",
       "12                      NaN               None  \n",
       "13      Sexual exploitation               None  \n",
       "14      Sexual exploitation               None  \n",
       "15      Sexual exploitation               None  \n",
       "16      Sexual exploitation               None  \n",
       "17      Sexual exploitation               None  \n",
       "18      Sexual exploitation               None  \n",
       "19      Sexual exploitation               None  \n",
       "20      Sexual exploitation               None  \n",
       "21      Sexual exploitation               None  \n",
       "22      Sexual exploitation               None  \n",
       "23      Sexual exploitation               None  \n",
       "24                      NaN               None  \n",
       "25                      NaN               None  \n",
       "26                      NaN               None  \n",
       "27                      NaN               None  \n",
       "28                      NaN               None  \n",
       "29                      NaN               None  \n",
       "...                     ...                ...  \n",
       "554310  Sexual exploitation            Unknown  \n",
       "554311  Sexual exploitation            Unknown  \n",
       "554312  Sexual exploitation            Unknown  \n",
       "554313  Sexual exploitation            Unknown  \n",
       "554314  Sexual exploitation            Unknown  \n",
       "554315  Sexual exploitation            Unknown  \n",
       "554316  Sexual exploitation            Unknown  \n",
       "554317  Sexual exploitation            Unknown  \n",
       "554318  Sexual exploitation            Unknown  \n",
       "554319  Sexual exploitation            Unknown  \n",
       "554320  Sexual exploitation            Unknown  \n",
       "554321  Sexual exploitation            Unknown  \n",
       "554322  Sexual exploitation            Unknown  \n",
       "554323  Sexual exploitation            Unknown  \n",
       "554324  Sexual exploitation            Unknown  \n",
       "554325  Sexual exploitation            Unknown  \n",
       "554326  Sexual exploitation            Unknown  \n",
       "554327  Sexual exploitation            Unknown  \n",
       "554328  Sexual exploitation            Unknown  \n",
       "554329  Sexual exploitation            Unknown  \n",
       "554330  Sexual exploitation            Unknown  \n",
       "554331  Sexual exploitation            Unknown  \n",
       "554332  Sexual exploitation            Unknown  \n",
       "554333  Sexual exploitation            Unknown  \n",
       "554334  Sexual exploitation            Unknown  \n",
       "554335  Sexual exploitation            Unknown  \n",
       "554336  Sexual exploitation            Unknown  \n",
       "554337  Sexual exploitation            Unknown  \n",
       "554338  Sexual exploitation            Unknown  \n",
       "554339  Sexual exploitation            Unknown  \n",
       "\n",
       "[554340 rows x 10 columns]"
      ]
     },
     "execution_count": 32,
     "metadata": {},
     "output_type": "execute_result"
    }
   ],
   "source": [
    "df"
   ]
  },
  {
   "cell_type": "markdown",
   "metadata": {},
   "source": [
    "# A GLOBAL PERSPECTIVE"
   ]
  },
  {
   "cell_type": "markdown",
   "metadata": {},
   "source": [
    "### Year of Regristration Plot"
   ]
  },
  {
   "cell_type": "code",
   "execution_count": 11,
   "metadata": {},
   "outputs": [
    {
     "data": {
      "text/plain": [
       "<seaborn.axisgrid.FacetGrid at 0x1a2ff16e80>"
      ]
     },
     "execution_count": 11,
     "metadata": {},
     "output_type": "execute_result"
    },
    {
     "data": {
      "image/png": "[encoded data removed]",
      "text/plain": [
       "<Figure size 864x432 with 1 Axes>"
      ]
     },
     "metadata": {
      "needs_background": "light"
     },
     "output_type": "display_data"
    }
   ],
   "source": [
    "sns.catplot(\n",
    "    x=\"Year Registration\",\n",
    "    data=df,\n",
    "    kind=\"count\",\n",
    "    height=6,\n",
    "    aspect=2,\n",
    ")"
   ]
  },
  {
   "cell_type": "markdown",
   "metadata": {},
   "source": [
    "The year in which the individual was registered and assisted by IOM or the year in which Polaris first received a report of the individual’s trafficking situation, or the date of entry into Liberty Asia’s VCMS.\n",
    "\n",
    "This chart reflects the overall trend of reporting over the past 16 years (note this is NOT reflecting the total amount of people trafficked, just the ones agencies know about). The catplot shows how few human trafficking reports their were from 2002 to 2014. This could be due to a number a factors including limited reporting resources and decreased awareness. The amount of reports significantly increased between 2015 and 2017. The numbers in 2018 are inconclusive being that the report was generated in September of 2018 and even the dataset representing only a fraction of the year of 2018."
   ]
  },
  {
   "cell_type": "markdown",
   "metadata": {},
   "source": [
    "### Initial Contact Method Between Victim and Agency Plot"
   ]
  },
  {
   "cell_type": "code",
   "execution_count": 12,
   "metadata": {},
   "outputs": [
    {
     "data": {
      "text/plain": [
       "<seaborn.axisgrid.FacetGrid at 0x1a291ce860>"
      ]
     },
     "execution_count": 12,
     "metadata": {},
     "output_type": "execute_result"
    },
    {
     "data": {
      "image/png": "[encoded data removed]",
      "text/plain": [
       "<Figure size 864x432 with 1 Axes>"
      ]
     },
     "metadata": {
      "needs_background": "light"
     },
     "output_type": "display_data"
    }
   ],
   "source": [
    "sns.catplot(\n",
    "    x=\"Contact Method\",\n",
    "    data=df,\n",
    "    kind=\"count\",\n",
    "    height=6,\n",
    "    aspect=2,\n",
    ")"
   ]
  },
  {
   "cell_type": "markdown",
   "metadata": {},
   "source": [
    "Data collection method, which generally reflects the services provided to victims.\n",
    "\n",
    "- Case management: Individual recieved social services from an agency in person.\n",
    "- Hotline: Individual received services, was referred to services, or was reported to a helpline through a remote means of communication such as a phone call, text message, online form report, or email."
   ]
  },
  {
   "cell_type": "markdown",
   "metadata": {},
   "source": [
    "# WHO ARE THEY?"
   ]
  },
  {
   "cell_type": "markdown",
   "metadata": {},
   "source": [
    "### Gender of Victims Plot"
   ]
  },
  {
   "cell_type": "code",
   "execution_count": 13,
   "metadata": {},
   "outputs": [
    {
     "data": {
      "text/plain": [
       "<seaborn.axisgrid.FacetGrid at 0x1a2b5a95c0>"
      ]
     },
     "execution_count": 13,
     "metadata": {},
     "output_type": "execute_result"
    },
    {
     "data": {
      "image/png": "[encoded data removed]",
      "text/plain": [
       "<Figure size 864x432 with 1 Axes>"
      ]
     },
     "metadata": {
      "needs_background": "light"
     },
     "output_type": "display_data"
    }
   ],
   "source": [
    "sns.catplot(\n",
    "    x=\"Gender\",\n",
    "    data=df,\n",
    "    kind=\"count\",\n",
    "    height=6,\n",
    "    aspect=2,\n",
    ")"
   ]
  },
  {
   "cell_type": "markdown",
   "metadata": {},
   "source": [
    "Designates the individual's expression or condition of being male, female, both or neither. This category considers the psychological, behavioral, social, and cultural aspects of being male, female, or non-binary (masculinity, femininity, neither, or a combination of both).\n",
    "\n",
    "This goes without saying, but though males are, indeed, victims of human trafficking, females victims almost triple the amount of males victims among people being trafficked."
   ]
  },
  {
   "cell_type": "markdown",
   "metadata": {},
   "source": [
    "### Age of Assistance Plot"
   ]
  },
  {
   "cell_type": "code",
   "execution_count": 14,
   "metadata": {},
   "outputs": [
    {
     "data": {
      "text/plain": [
       "<seaborn.axisgrid.FacetGrid at 0x1a2ff92780>"
      ]
     },
     "execution_count": 14,
     "metadata": {},
     "output_type": "execute_result"
    },
    {
     "data": {
      "image/png": "[encoded data removed]",
      "text/plain": [
       "<Figure size 864x432 with 1 Axes>"
      ]
     },
     "metadata": {
      "needs_background": "light"
     },
     "output_type": "display_data"
    }
   ],
   "source": [
    "sns.catplot(\n",
    "    x=\"Assistance Age\",\n",
    "    data=df,\n",
    "    kind=\"count\",\n",
    "    height=6,\n",
    "    aspect=2,\n",
    "    order= ('0--8', '9--17', '18--20', '21--23', '24--26', '27--29', '30--38', '39--47', '48+', 'Unknown'),\n",
    ")"
   ]
  },
  {
   "cell_type": "markdown",
   "metadata": {},
   "source": [
    "The chart shows the individual's age at the time the individual was registered and assisted by IOM, or Polaris first received a report of the individual’s trafficking situation, or at first point of contact with Liberty Asia’s NGO partner. Note that this is not the age in which someone was first exploited, which means by the time a case is a reported (reflected above in terms of the victims age) the victim could have already been exploited for a period of time (e.g. months, years, etc.)."
   ]
  },
  {
   "cell_type": "markdown",
   "metadata": {},
   "source": [
    "### Age of Assistance per Gender Plot"
   ]
  },
  {
   "cell_type": "code",
   "execution_count": 25,
   "metadata": {},
   "outputs": [
    {
     "data": {
      "text/plain": [
       "<seaborn.axisgrid.FacetGrid at 0x1a24e3cef0>"
      ]
     },
     "execution_count": 25,
     "metadata": {},
     "output_type": "execute_result"
    },
    {
     "data": {
      "image/png": "[encoded data removed]",
      "text/plain": [
       "<Figure size 946.375x432 with 1 Axes>"
      ]
     },
     "metadata": {
      "needs_background": "light"
     },
     "output_type": "display_data"
    }
   ],
   "source": [
    "sns.catplot(\n",
    "    x=\"Assistance Age\",\n",
    "    hue=\"Gender\",\n",
    "    data=df,\n",
    "    kind=\"count\",\n",
    "    height=6,\n",
    "    aspect=2,\n",
    "    order= ('0--8', '9--17', '18--20', '21--23', '24--26', '27--29', '30--38', '39--47', '48+', 'Unknown'),\n",
    ")"
   ]
  },
  {
   "cell_type": "markdown",
   "metadata": {},
   "source": [
    "This chart is telling because it shows that the ratio between men and women victims when they are first reported a victim of trafficking is closer to 50% in groups 0-8, 30-38, 39-47, and 48+. But among the ages 9-29 there is a significant more amount of women than men that are being reported victims of human trafficking."
   ]
  },
  {
   "cell_type": "markdown",
   "metadata": {},
   "source": [
    "### Age of Exploitation Plot"
   ]
  },
  {
   "cell_type": "code",
   "execution_count": 15,
   "metadata": {},
   "outputs": [
    {
     "data": {
      "text/plain": [
       "<seaborn.axisgrid.FacetGrid at 0x1a2b93e668>"
      ]
     },
     "execution_count": 15,
     "metadata": {},
     "output_type": "execute_result"
    },
    {
     "data": {
      "image/png": "[encoded data removed]",
      "text/plain": [
       "<Figure size 864x432 with 1 Axes>"
      ]
     },
     "metadata": {
      "needs_background": "light"
     },
     "output_type": "display_data"
    }
   ],
   "source": [
    "sns.catplot(\n",
    "    x=\"Exploitation Age\",\n",
    "    data=df,\n",
    "    kind=\"count\",\n",
    "    height=6,\n",
    "    aspect=2,\n",
    ")"
   ]
  },
  {
   "cell_type": "markdown",
   "metadata": {},
   "source": [
    "The individual's age at the time the exploitation of the individual began. Exploitation includes the exploitation of the prostitution of others or other forms of sexual exploitation, forced labour or services, slavery or practices similar to slavery, servitude or the removal of organs. Among known categories, the exploitation age of victims below 18 years of age almost doubles victims that began being exploited at the age of 18+."
   ]
  },
  {
   "cell_type": "markdown",
   "metadata": {},
   "source": [
    "### Country of Origin Plot"
   ]
  },
  {
   "cell_type": "code",
   "execution_count": 16,
   "metadata": {},
   "outputs": [
    {
     "data": {
      "text/plain": [
       "<seaborn.axisgrid.FacetGrid at 0x1a29597eb8>"
      ]
     },
     "execution_count": 16,
     "metadata": {},
     "output_type": "execute_result"
    },
    {
     "data": {
      "image/png": "[encoded data removed]",
      "text/plain": [
       "<Figure size 1296x432 with 1 Axes>"
      ]
     },
     "metadata": {
      "needs_background": "light"
     },
     "output_type": "display_data"
    }
   ],
   "source": [
    "sns.catplot(\n",
    "    x=\"Country Origin\",\n",
    "    data=df,\n",
    "    kind=\"count\",\n",
    "    height=6,\n",
    "    aspect=3,\n",
    ")"
   ]
  },
  {
   "cell_type": "markdown",
   "metadata": {},
   "source": [
    "The set of rights and duties that a person has with a country because of his/her legal bond with the country. This term is often used interchangeably with nationality, however some states distinguish between nationality and citizenship and provide for different types of nationality of which citizenship is one form. Liberty Asia partners recording this as ‘Country of Origin’ as a proxy for citizenship due to this not being recorded. \n",
    "\n",
    "In short, this is WHERE the victims of human trafficking in this report came from.\n",
    "\n",
    "- Values based on ISO 3166-1 Alpha-2 Codes\n",
    "\n",
    "Country Values Worth Mentioned:\n",
    "- ZZ = Unknown Country\n",
    "- PH = Philippines\n",
    "- UA = Ukraine\n",
    "- MD = Moldova\n",
    "- US = United States\n",
    "- KH = Cambodia\n",
    "- ID = Indonesia\n",
    "- BY = Belarus\n",
    "- MM = Myanmar"
   ]
  },
  {
   "cell_type": "markdown",
   "metadata": {},
   "source": [
    "### Country of Exploitation Plot"
   ]
  },
  {
   "cell_type": "code",
   "execution_count": 17,
   "metadata": {},
   "outputs": [
    {
     "data": {
      "text/plain": [
       "<seaborn.axisgrid.FacetGrid at 0x1a2944d7f0>"
      ]
     },
     "execution_count": 17,
     "metadata": {},
     "output_type": "execute_result"
    },
    {
     "data": {
      "image/png": "[encoded data removed]",
      "text/plain": [
       "<Figure size 1296x432 with 1 Axes>"
      ]
     },
     "metadata": {
      "needs_background": "light"
     },
     "output_type": "display_data"
    }
   ],
   "source": [
    "sns.catplot(\n",
    "    x=\"Country Exploitation\",\n",
    "    data=df,\n",
    "    kind=\"count\",\n",
    "    height=6,\n",
    "    aspect=3,\n",
    ")"
   ]
  },
  {
   "cell_type": "markdown",
   "metadata": {},
   "source": [
    "Indicates the last country where the victim was exploited. In the context of human trafficking data, this is also referred to as the “country of destination” (as opposed to “country of origin” if human trafficking was across borders). In instances where are no data for the last country of exploitation, a proxy has been created to capture as much data as possible about the country the victim was exploited in. The proxy uses data about the country in which the victim is first supported/assisted, identified and/or referred, which in the vast majority of cases is de facto the last country of exploitation. \n",
    "\n",
    "In short, this is WHERE victims of human trafficking are going.\n",
    "\n",
    "- Values based on ISO 3166-1 Alpha-2 Codes\n",
    "\n",
    "Country Values Worth Mentioned:\n",
    "1) US = United States\n",
    "2) MD = Moldova\n",
    "3) UA = Ukraine\n",
    "4) RU = Russia\n",
    "5) PH = Philippines\n",
    "6) ID = Indonesia\n",
    "7) KH = Cambodia"
   ]
  },
  {
   "cell_type": "markdown",
   "metadata": {},
   "source": [
    "# WHY ARE THEY BEING TRAFFICKED?"
   ]
  },
  {
   "cell_type": "markdown",
   "metadata": {},
   "source": [
    "### Exploitation Type Plot"
   ]
  },
  {
   "cell_type": "code",
   "execution_count": 18,
   "metadata": {},
   "outputs": [
    {
     "data": {
      "text/plain": [
       "<seaborn.axisgrid.FacetGrid at 0x1a2829e978>"
      ]
     },
     "execution_count": 18,
     "metadata": {},
     "output_type": "execute_result"
    },
    {
     "data": {
      "image/png": "[encoded data removed]",
      "text/plain": [
       "<Figure size 1728x432 with 1 Axes>"
      ]
     },
     "metadata": {
      "needs_background": "light"
     },
     "output_type": "display_data"
    }
   ],
   "source": [
    "sns.catplot(\n",
    "    x=\"Exploitation Type\",\n",
    "    data=df,\n",
    "    kind=\"count\",\n",
    "    height=6,\n",
    "    aspect=4,\n",
    ")"
   ]
  },
  {
   "cell_type": "markdown",
   "metadata": {},
   "source": [
    "^^Comment"
   ]
  },
  {
   "cell_type": "markdown",
   "metadata": {},
   "source": [
    "### Exploitation Type per Gender Plot"
   ]
  },
  {
   "cell_type": "code",
   "execution_count": 22,
   "metadata": {},
   "outputs": [
    {
     "data": {
      "text/plain": [
       "<seaborn.axisgrid.FacetGrid at 0x1a23fac320>"
      ]
     },
     "execution_count": 22,
     "metadata": {},
     "output_type": "execute_result"
    },
    {
     "data": {
      "image/png": "[encoded data removed]",
      "text/plain": [
       "<Figure size 1810.38x432 with 1 Axes>"
      ]
     },
     "metadata": {
      "needs_background": "light"
     },
     "output_type": "display_data"
    }
   ],
   "source": [
    "sns.catplot(\n",
    "    x=\"Exploitation Type\",\n",
    "    hue=\"Gender\",\n",
    "    data=df,\n",
    "    kind=\"count\",\n",
    "    height=6,\n",
    "    aspect=4,\n",
    ")"
   ]
  },
  {
   "cell_type": "markdown",
   "metadata": {},
   "source": [
    "As you can see in the above chart, among all the victims, sexual eploitation deals almost exclusively with females, where forced labor has a male majority, but is still close to 50%."
   ]
  },
  {
   "cell_type": "markdown",
   "metadata": {},
   "source": [
    "# WHOSE TRAFFICKING THEM?"
   ]
  },
  {
   "cell_type": "markdown",
   "metadata": {},
   "source": [
    "### Recruiter Relationship Plot"
   ]
  },
  {
   "cell_type": "code",
   "execution_count": 33,
   "metadata": {},
   "outputs": [
    {
     "data": {
      "text/plain": [
       "<seaborn.axisgrid.FacetGrid at 0x1a1ede0b38>"
      ]
     },
     "execution_count": 33,
     "metadata": {},
     "output_type": "execute_result"
    },
    {
     "data": {
      "image/png": "[encoded data removed]",
      "text/plain": [
       "<Figure size 1728x432 with 1 Axes>"
      ]
     },
     "metadata": {
      "needs_background": "light"
     },
     "output_type": "display_data"
    }
   ],
   "source": [
    "sns.catplot(\n",
    "    x=\"Recruiter Relation\",\n",
    "    data=df,\n",
    "    kind=\"count\",\n",
    "    height=6,\n",
    "    aspect=4,\n",
    ")"
   ]
  },
  {
   "cell_type": "markdown",
   "metadata": {},
   "source": [
    "Indicates whether a person who initially enticed or obtained the individual into the\n",
    "situation of exploitation was one with whom the individual has identified having a current or former romantic relationship.\n",
    "\n",
    "As is evident, little information is known about this. Victims often have a hard time remember"
   ]
  },
  {
   "cell_type": "markdown",
   "metadata": {},
   "source": [
    "^^Comment"
   ]
  }
 ],
 "metadata": {
  "kernelspec": {
   "display_name": "Python 3",
   "language": "python",
   "name": "python3"
  },
  "language_info": {
   "codemirror_mode": {
    "name": "ipython",
    "version": 3
   },
   "file_extension": ".py",
   "mimetype": "text/x-python",
   "name": "python",
   "nbconvert_exporter": "python",
   "pygments_lexer": "ipython3",
   "version": "3.7.1"
  }
 },
 "nbformat": 4,
 "nbformat_minor": 2
}
