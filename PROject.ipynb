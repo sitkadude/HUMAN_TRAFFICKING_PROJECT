{
 "cells": [
  {
   "cell_type": "markdown",
   "metadata": {},
   "source": [
    "# A REPORT ON THE GLOBAL STATE OF HUMAN TRAFFICKING"
   ]
  },
  {
   "cell_type": "code",
   "execution_count": 1,
   "metadata": {},
   "outputs": [],
   "source": [
    "import os\n",
    "import sqlite3\n",
    "import csv\n",
    "\n",
    "import pandas as pd\n",
    "import numpy as np\n",
    "\n",
    "import seaborn as sns\n",
    "import matplotlib.pyplot as plt"
   ]
  },
  {
   "cell_type": "markdown",
   "metadata": {},
   "source": [
    "CODE to create database and table within the database."
   ]
  },
  {
   "cell_type": "code",
   "execution_count": 2,
   "metadata": {},
   "outputs": [
    {
     "data": {
      "text/plain": [
       "<sqlite3.Cursor at 0x1a1c90a340>"
      ]
     },
     "execution_count": 2,
     "metadata": {},
     "output_type": "execute_result"
    }
   ],
   "source": [
    "con = sqlite3.connect(\"GlobalDatasetSept2018.db\")\n",
    "cur = con.cursor()\n",
    "cur.execute(\"CREATE TABLE IF NOT EXISTS victims_table (gender STR, majorityEntry STR, majorityStatusAtExploit STR, ageBroad STR, citizenship STR, yearOfRegistration STR, Datasource STR, CountryOfExploitation STR, typeOfExploitConcatenated STR, RecruiterRelationship STR)\")"
   ]
  },
  {
   "cell_type": "markdown",
   "metadata": {},
   "source": [
    "CODE to transfer columns of data from csv file to new database."
   ]
  },
  {
   "cell_type": "code",
   "execution_count": 3,
   "metadata": {},
   "outputs": [],
   "source": [
    "with open('Global_Dataset_3_Sept_2018.csv','r') as victims:\n",
    "    dr = csv.DictReader(victims)\n",
    "    to_db = [(i['gender'],\n",
    "              i['majorityEntry'],\n",
    "              i['majorityStatusAtExploit'],\n",
    "              i['ageBroad'],\n",
    "              i['citizenship'],\n",
    "              i['yearOfRegistration'],\n",
    "              i['Datasource'],\n",
    "              i['CountryOfExploitation'],\n",
    "              i['typeOfExploitConcatenated'],\n",
    "              i['RecruiterRelationship']) for i in dr]\n",
    "    cur.executemany(\n",
    "        \"INSERT INTO victims_table VALUES \"\n",
    "        \"(?, ?, ?, ?, ?, ?, ?, ?, ?, ?);\", to_db)    \n",
    "    con.commit()"
   ]
  },
  {
   "cell_type": "markdown",
   "metadata": {},
   "source": [
    "CODE to retrieve data from SQL database into a python object."
   ]
  },
  {
   "cell_type": "code",
   "execution_count": 4,
   "metadata": {},
   "outputs": [],
   "source": [
    "df = pd.read_sql(\"SELECT * FROM victims_table\", con)"
   ]
  },
  {
   "cell_type": "markdown",
   "metadata": {},
   "source": [
    "CODE to replace missing values (\"-99\") with NaN using Regex."
   ]
  },
  {
   "cell_type": "code",
   "execution_count": 5,
   "metadata": {},
   "outputs": [],
   "source": [
    "df.replace(-99, np.nan, regex=True, inplace=True)"
   ]
  },
  {
   "cell_type": "markdown",
   "metadata": {},
   "source": [
    "CODE to rename columns in SQL database."
   ]
  },
  {
   "cell_type": "code",
   "execution_count": 6,
   "metadata": {},
   "outputs": [],
   "source": [
    "df.rename(\n",
    "    columns={\n",
    "        'Gender':'Gender',\n",
    "        'majorityEntry': 'Entry Age',\n",
    "        'majorityStatusAtExploit': 'Exploitation Age',\n",
    "        'ageBroad': 'Assistance Age', \n",
    "        'citizenship': 'Country Origin', \n",
    "        'yearOfRegistration': 'Year Registration', \n",
    "        'Datasource': 'Contact Method', \n",
    "        'CountryOfExploitation': 'Country Exploitation',\n",
    "        'typeOfExploitConcatenated': 'Exploitation Type',\n",
    "        'recruitment_relation': 'Recruiter Relation'\n",
    "    }, \n",
    "    inplace=True)"
   ]
  },
  {
   "cell_type": "code",
   "execution_count": 7,
   "metadata": {},
   "outputs": [
    {
     "data": {
      "text/html": [
       "<div>\n",
       "<style scoped>\n",
       "    .dataframe tbody tr th:only-of-type {\n",
       "        vertical-align: middle;\n",
       "    }\n",
       "\n",
       "    .dataframe tbody tr th {\n",
       "        vertical-align: top;\n",
       "    }\n",
       "\n",
       "    .dataframe thead th {\n",
       "        text-align: right;\n",
       "    }\n",
       "</style>\n",
       "<table border=\"1\" class=\"dataframe\">\n",
       "  <thead>\n",
       "    <tr style=\"text-align: right;\">\n",
       "      <th></th>\n",
       "      <th>Gender</th>\n",
       "      <th>Entry Age</th>\n",
       "      <th>Exploitation Age</th>\n",
       "      <th>Assistance Age</th>\n",
       "      <th>Country Origin</th>\n",
       "      <th>Year Registration</th>\n",
       "      <th>Contact Method</th>\n",
       "      <th>Country Exploitation</th>\n",
       "      <th>Exploitation Type</th>\n",
       "      <th>Recruiter Relation</th>\n",
       "    </tr>\n",
       "  </thead>\n",
       "  <tbody>\n",
       "    <tr>\n",
       "      <th>0</th>\n",
       "      <td>NaN</td>\n",
       "      <td>NaN</td>\n",
       "      <td>NaN</td>\n",
       "      <td>NaN</td>\n",
       "      <td>NaN</td>\n",
       "      <td>2002</td>\n",
       "      <td>Case Management</td>\n",
       "      <td>NaN</td>\n",
       "      <td>NaN</td>\n",
       "      <td>None</td>\n",
       "    </tr>\n",
       "    <tr>\n",
       "      <th>1</th>\n",
       "      <td>NaN</td>\n",
       "      <td>NaN</td>\n",
       "      <td>NaN</td>\n",
       "      <td>NaN</td>\n",
       "      <td>NaN</td>\n",
       "      <td>2002</td>\n",
       "      <td>Case Management</td>\n",
       "      <td>NaN</td>\n",
       "      <td>NaN</td>\n",
       "      <td>None</td>\n",
       "    </tr>\n",
       "    <tr>\n",
       "      <th>2</th>\n",
       "      <td>NaN</td>\n",
       "      <td>NaN</td>\n",
       "      <td>NaN</td>\n",
       "      <td>NaN</td>\n",
       "      <td>NaN</td>\n",
       "      <td>2002</td>\n",
       "      <td>Case Management</td>\n",
       "      <td>NaN</td>\n",
       "      <td>NaN</td>\n",
       "      <td>None</td>\n",
       "    </tr>\n",
       "    <tr>\n",
       "      <th>3</th>\n",
       "      <td>NaN</td>\n",
       "      <td>NaN</td>\n",
       "      <td>NaN</td>\n",
       "      <td>NaN</td>\n",
       "      <td>NaN</td>\n",
       "      <td>2002</td>\n",
       "      <td>Case Management</td>\n",
       "      <td>NaN</td>\n",
       "      <td>NaN</td>\n",
       "      <td>None</td>\n",
       "    </tr>\n",
       "    <tr>\n",
       "      <th>4</th>\n",
       "      <td>NaN</td>\n",
       "      <td>NaN</td>\n",
       "      <td>NaN</td>\n",
       "      <td>NaN</td>\n",
       "      <td>NaN</td>\n",
       "      <td>2002</td>\n",
       "      <td>Case Management</td>\n",
       "      <td>NaN</td>\n",
       "      <td>NaN</td>\n",
       "      <td>None</td>\n",
       "    </tr>\n",
       "    <tr>\n",
       "      <th>5</th>\n",
       "      <td>NaN</td>\n",
       "      <td>NaN</td>\n",
       "      <td>NaN</td>\n",
       "      <td>NaN</td>\n",
       "      <td>NaN</td>\n",
       "      <td>2002</td>\n",
       "      <td>Case Management</td>\n",
       "      <td>NaN</td>\n",
       "      <td>NaN</td>\n",
       "      <td>None</td>\n",
       "    </tr>\n",
       "    <tr>\n",
       "      <th>6</th>\n",
       "      <td>NaN</td>\n",
       "      <td>NaN</td>\n",
       "      <td>NaN</td>\n",
       "      <td>NaN</td>\n",
       "      <td>NaN</td>\n",
       "      <td>2002</td>\n",
       "      <td>Case Management</td>\n",
       "      <td>NaN</td>\n",
       "      <td>NaN</td>\n",
       "      <td>None</td>\n",
       "    </tr>\n",
       "    <tr>\n",
       "      <th>7</th>\n",
       "      <td>NaN</td>\n",
       "      <td>NaN</td>\n",
       "      <td>NaN</td>\n",
       "      <td>NaN</td>\n",
       "      <td>NaN</td>\n",
       "      <td>2002</td>\n",
       "      <td>Case Management</td>\n",
       "      <td>NaN</td>\n",
       "      <td>NaN</td>\n",
       "      <td>None</td>\n",
       "    </tr>\n",
       "    <tr>\n",
       "      <th>8</th>\n",
       "      <td>NaN</td>\n",
       "      <td>NaN</td>\n",
       "      <td>NaN</td>\n",
       "      <td>NaN</td>\n",
       "      <td>NaN</td>\n",
       "      <td>2002</td>\n",
       "      <td>Case Management</td>\n",
       "      <td>NaN</td>\n",
       "      <td>NaN</td>\n",
       "      <td>None</td>\n",
       "    </tr>\n",
       "    <tr>\n",
       "      <th>9</th>\n",
       "      <td>NaN</td>\n",
       "      <td>NaN</td>\n",
       "      <td>NaN</td>\n",
       "      <td>NaN</td>\n",
       "      <td>NaN</td>\n",
       "      <td>2002</td>\n",
       "      <td>Case Management</td>\n",
       "      <td>NaN</td>\n",
       "      <td>NaN</td>\n",
       "      <td>None</td>\n",
       "    </tr>\n",
       "    <tr>\n",
       "      <th>10</th>\n",
       "      <td>NaN</td>\n",
       "      <td>NaN</td>\n",
       "      <td>NaN</td>\n",
       "      <td>NaN</td>\n",
       "      <td>NaN</td>\n",
       "      <td>2002</td>\n",
       "      <td>Case Management</td>\n",
       "      <td>NaN</td>\n",
       "      <td>NaN</td>\n",
       "      <td>None</td>\n",
       "    </tr>\n",
       "    <tr>\n",
       "      <th>11</th>\n",
       "      <td>NaN</td>\n",
       "      <td>NaN</td>\n",
       "      <td>NaN</td>\n",
       "      <td>NaN</td>\n",
       "      <td>NaN</td>\n",
       "      <td>2002</td>\n",
       "      <td>Case Management</td>\n",
       "      <td>NaN</td>\n",
       "      <td>NaN</td>\n",
       "      <td>None</td>\n",
       "    </tr>\n",
       "    <tr>\n",
       "      <th>12</th>\n",
       "      <td>NaN</td>\n",
       "      <td>NaN</td>\n",
       "      <td>NaN</td>\n",
       "      <td>NaN</td>\n",
       "      <td>NaN</td>\n",
       "      <td>2002</td>\n",
       "      <td>Case Management</td>\n",
       "      <td>NaN</td>\n",
       "      <td>NaN</td>\n",
       "      <td>None</td>\n",
       "    </tr>\n",
       "    <tr>\n",
       "      <th>13</th>\n",
       "      <td>Female</td>\n",
       "      <td>NaN</td>\n",
       "      <td>NaN</td>\n",
       "      <td>18--20</td>\n",
       "      <td>CO</td>\n",
       "      <td>2002</td>\n",
       "      <td>Case Management</td>\n",
       "      <td>NaN</td>\n",
       "      <td>Sexual exploitation</td>\n",
       "      <td>None</td>\n",
       "    </tr>\n",
       "    <tr>\n",
       "      <th>14</th>\n",
       "      <td>Female</td>\n",
       "      <td>NaN</td>\n",
       "      <td>NaN</td>\n",
       "      <td>18--20</td>\n",
       "      <td>CO</td>\n",
       "      <td>2002</td>\n",
       "      <td>Case Management</td>\n",
       "      <td>NaN</td>\n",
       "      <td>Sexual exploitation</td>\n",
       "      <td>None</td>\n",
       "    </tr>\n",
       "    <tr>\n",
       "      <th>15</th>\n",
       "      <td>Female</td>\n",
       "      <td>NaN</td>\n",
       "      <td>NaN</td>\n",
       "      <td>18--20</td>\n",
       "      <td>CO</td>\n",
       "      <td>2002</td>\n",
       "      <td>Case Management</td>\n",
       "      <td>NaN</td>\n",
       "      <td>Sexual exploitation</td>\n",
       "      <td>None</td>\n",
       "    </tr>\n",
       "    <tr>\n",
       "      <th>16</th>\n",
       "      <td>Female</td>\n",
       "      <td>NaN</td>\n",
       "      <td>NaN</td>\n",
       "      <td>18--20</td>\n",
       "      <td>CO</td>\n",
       "      <td>2002</td>\n",
       "      <td>Case Management</td>\n",
       "      <td>NaN</td>\n",
       "      <td>Sexual exploitation</td>\n",
       "      <td>None</td>\n",
       "    </tr>\n",
       "    <tr>\n",
       "      <th>17</th>\n",
       "      <td>Female</td>\n",
       "      <td>NaN</td>\n",
       "      <td>NaN</td>\n",
       "      <td>18--20</td>\n",
       "      <td>CO</td>\n",
       "      <td>2002</td>\n",
       "      <td>Case Management</td>\n",
       "      <td>NaN</td>\n",
       "      <td>Sexual exploitation</td>\n",
       "      <td>None</td>\n",
       "    </tr>\n",
       "    <tr>\n",
       "      <th>18</th>\n",
       "      <td>Female</td>\n",
       "      <td>NaN</td>\n",
       "      <td>NaN</td>\n",
       "      <td>18--20</td>\n",
       "      <td>CO</td>\n",
       "      <td>2002</td>\n",
       "      <td>Case Management</td>\n",
       "      <td>NaN</td>\n",
       "      <td>Sexual exploitation</td>\n",
       "      <td>None</td>\n",
       "    </tr>\n",
       "    <tr>\n",
       "      <th>19</th>\n",
       "      <td>Female</td>\n",
       "      <td>NaN</td>\n",
       "      <td>NaN</td>\n",
       "      <td>18--20</td>\n",
       "      <td>CO</td>\n",
       "      <td>2002</td>\n",
       "      <td>Case Management</td>\n",
       "      <td>NaN</td>\n",
       "      <td>Sexual exploitation</td>\n",
       "      <td>None</td>\n",
       "    </tr>\n",
       "    <tr>\n",
       "      <th>20</th>\n",
       "      <td>Female</td>\n",
       "      <td>NaN</td>\n",
       "      <td>NaN</td>\n",
       "      <td>18--20</td>\n",
       "      <td>CO</td>\n",
       "      <td>2002</td>\n",
       "      <td>Case Management</td>\n",
       "      <td>NaN</td>\n",
       "      <td>Sexual exploitation</td>\n",
       "      <td>None</td>\n",
       "    </tr>\n",
       "    <tr>\n",
       "      <th>21</th>\n",
       "      <td>Female</td>\n",
       "      <td>NaN</td>\n",
       "      <td>NaN</td>\n",
       "      <td>18--20</td>\n",
       "      <td>CO</td>\n",
       "      <td>2002</td>\n",
       "      <td>Case Management</td>\n",
       "      <td>NaN</td>\n",
       "      <td>Sexual exploitation</td>\n",
       "      <td>None</td>\n",
       "    </tr>\n",
       "    <tr>\n",
       "      <th>22</th>\n",
       "      <td>Female</td>\n",
       "      <td>NaN</td>\n",
       "      <td>NaN</td>\n",
       "      <td>18--20</td>\n",
       "      <td>CO</td>\n",
       "      <td>2002</td>\n",
       "      <td>Case Management</td>\n",
       "      <td>NaN</td>\n",
       "      <td>Sexual exploitation</td>\n",
       "      <td>None</td>\n",
       "    </tr>\n",
       "    <tr>\n",
       "      <th>23</th>\n",
       "      <td>Female</td>\n",
       "      <td>NaN</td>\n",
       "      <td>NaN</td>\n",
       "      <td>18--20</td>\n",
       "      <td>CO</td>\n",
       "      <td>2002</td>\n",
       "      <td>Case Management</td>\n",
       "      <td>NaN</td>\n",
       "      <td>Sexual exploitation</td>\n",
       "      <td>None</td>\n",
       "    </tr>\n",
       "    <tr>\n",
       "      <th>24</th>\n",
       "      <td>Female</td>\n",
       "      <td>NaN</td>\n",
       "      <td>NaN</td>\n",
       "      <td>18--20</td>\n",
       "      <td>MD</td>\n",
       "      <td>2002</td>\n",
       "      <td>Case Management</td>\n",
       "      <td>NaN</td>\n",
       "      <td>NaN</td>\n",
       "      <td>None</td>\n",
       "    </tr>\n",
       "    <tr>\n",
       "      <th>25</th>\n",
       "      <td>Female</td>\n",
       "      <td>NaN</td>\n",
       "      <td>NaN</td>\n",
       "      <td>18--20</td>\n",
       "      <td>MD</td>\n",
       "      <td>2002</td>\n",
       "      <td>Case Management</td>\n",
       "      <td>NaN</td>\n",
       "      <td>NaN</td>\n",
       "      <td>None</td>\n",
       "    </tr>\n",
       "    <tr>\n",
       "      <th>26</th>\n",
       "      <td>Female</td>\n",
       "      <td>NaN</td>\n",
       "      <td>NaN</td>\n",
       "      <td>18--20</td>\n",
       "      <td>MD</td>\n",
       "      <td>2002</td>\n",
       "      <td>Case Management</td>\n",
       "      <td>NaN</td>\n",
       "      <td>NaN</td>\n",
       "      <td>None</td>\n",
       "    </tr>\n",
       "    <tr>\n",
       "      <th>27</th>\n",
       "      <td>Female</td>\n",
       "      <td>NaN</td>\n",
       "      <td>NaN</td>\n",
       "      <td>18--20</td>\n",
       "      <td>MD</td>\n",
       "      <td>2002</td>\n",
       "      <td>Case Management</td>\n",
       "      <td>NaN</td>\n",
       "      <td>NaN</td>\n",
       "      <td>None</td>\n",
       "    </tr>\n",
       "    <tr>\n",
       "      <th>28</th>\n",
       "      <td>Female</td>\n",
       "      <td>NaN</td>\n",
       "      <td>NaN</td>\n",
       "      <td>18--20</td>\n",
       "      <td>MD</td>\n",
       "      <td>2002</td>\n",
       "      <td>Case Management</td>\n",
       "      <td>NaN</td>\n",
       "      <td>NaN</td>\n",
       "      <td>None</td>\n",
       "    </tr>\n",
       "    <tr>\n",
       "      <th>29</th>\n",
       "      <td>Female</td>\n",
       "      <td>NaN</td>\n",
       "      <td>NaN</td>\n",
       "      <td>18--20</td>\n",
       "      <td>MD</td>\n",
       "      <td>2002</td>\n",
       "      <td>Case Management</td>\n",
       "      <td>NaN</td>\n",
       "      <td>NaN</td>\n",
       "      <td>None</td>\n",
       "    </tr>\n",
       "    <tr>\n",
       "      <th>...</th>\n",
       "      <td>...</td>\n",
       "      <td>...</td>\n",
       "      <td>...</td>\n",
       "      <td>...</td>\n",
       "      <td>...</td>\n",
       "      <td>...</td>\n",
       "      <td>...</td>\n",
       "      <td>...</td>\n",
       "      <td>...</td>\n",
       "      <td>...</td>\n",
       "    </tr>\n",
       "    <tr>\n",
       "      <th>720612</th>\n",
       "      <td>Male</td>\n",
       "      <td>NaN</td>\n",
       "      <td>NaN</td>\n",
       "      <td>NaN</td>\n",
       "      <td>KH</td>\n",
       "      <td>2018</td>\n",
       "      <td>Case Management</td>\n",
       "      <td>KH</td>\n",
       "      <td>Sexual exploitation</td>\n",
       "      <td>Unknown</td>\n",
       "    </tr>\n",
       "    <tr>\n",
       "      <th>720613</th>\n",
       "      <td>Male</td>\n",
       "      <td>NaN</td>\n",
       "      <td>Minor</td>\n",
       "      <td>NaN</td>\n",
       "      <td>KH</td>\n",
       "      <td>2018</td>\n",
       "      <td>Case Management</td>\n",
       "      <td>KH</td>\n",
       "      <td>Sexual exploitation</td>\n",
       "      <td>Unknown</td>\n",
       "    </tr>\n",
       "    <tr>\n",
       "      <th>720614</th>\n",
       "      <td>Male</td>\n",
       "      <td>NaN</td>\n",
       "      <td>NaN</td>\n",
       "      <td>NaN</td>\n",
       "      <td>KH</td>\n",
       "      <td>2018</td>\n",
       "      <td>Case Management</td>\n",
       "      <td>KH</td>\n",
       "      <td>Sexual exploitation</td>\n",
       "      <td>Unknown</td>\n",
       "    </tr>\n",
       "    <tr>\n",
       "      <th>720615</th>\n",
       "      <td>Male</td>\n",
       "      <td>NaN</td>\n",
       "      <td>Minor</td>\n",
       "      <td>NaN</td>\n",
       "      <td>KH</td>\n",
       "      <td>2018</td>\n",
       "      <td>Case Management</td>\n",
       "      <td>KH</td>\n",
       "      <td>Sexual exploitation</td>\n",
       "      <td>Unknown</td>\n",
       "    </tr>\n",
       "    <tr>\n",
       "      <th>720616</th>\n",
       "      <td>Male</td>\n",
       "      <td>NaN</td>\n",
       "      <td>Minor</td>\n",
       "      <td>NaN</td>\n",
       "      <td>KH</td>\n",
       "      <td>2018</td>\n",
       "      <td>Case Management</td>\n",
       "      <td>KH</td>\n",
       "      <td>Sexual exploitation</td>\n",
       "      <td>Unknown</td>\n",
       "    </tr>\n",
       "    <tr>\n",
       "      <th>720617</th>\n",
       "      <td>Male</td>\n",
       "      <td>NaN</td>\n",
       "      <td>Minor</td>\n",
       "      <td>NaN</td>\n",
       "      <td>KH</td>\n",
       "      <td>2018</td>\n",
       "      <td>Case Management</td>\n",
       "      <td>KH</td>\n",
       "      <td>Sexual exploitation</td>\n",
       "      <td>Unknown</td>\n",
       "    </tr>\n",
       "    <tr>\n",
       "      <th>720618</th>\n",
       "      <td>Male</td>\n",
       "      <td>NaN</td>\n",
       "      <td>Minor</td>\n",
       "      <td>NaN</td>\n",
       "      <td>KH</td>\n",
       "      <td>2018</td>\n",
       "      <td>Case Management</td>\n",
       "      <td>KH</td>\n",
       "      <td>Sexual exploitation</td>\n",
       "      <td>Unknown</td>\n",
       "    </tr>\n",
       "    <tr>\n",
       "      <th>720619</th>\n",
       "      <td>Male</td>\n",
       "      <td>NaN</td>\n",
       "      <td>Minor</td>\n",
       "      <td>NaN</td>\n",
       "      <td>KH</td>\n",
       "      <td>2018</td>\n",
       "      <td>Case Management</td>\n",
       "      <td>KH</td>\n",
       "      <td>Sexual exploitation</td>\n",
       "      <td>Unknown</td>\n",
       "    </tr>\n",
       "    <tr>\n",
       "      <th>720620</th>\n",
       "      <td>Male</td>\n",
       "      <td>NaN</td>\n",
       "      <td>Minor</td>\n",
       "      <td>NaN</td>\n",
       "      <td>KH</td>\n",
       "      <td>2018</td>\n",
       "      <td>Case Management</td>\n",
       "      <td>KH</td>\n",
       "      <td>Sexual exploitation</td>\n",
       "      <td>Unknown</td>\n",
       "    </tr>\n",
       "    <tr>\n",
       "      <th>720621</th>\n",
       "      <td>Male</td>\n",
       "      <td>NaN</td>\n",
       "      <td>Minor</td>\n",
       "      <td>NaN</td>\n",
       "      <td>KH</td>\n",
       "      <td>2018</td>\n",
       "      <td>Case Management</td>\n",
       "      <td>KH</td>\n",
       "      <td>Sexual exploitation</td>\n",
       "      <td>Unknown</td>\n",
       "    </tr>\n",
       "    <tr>\n",
       "      <th>720622</th>\n",
       "      <td>Male</td>\n",
       "      <td>NaN</td>\n",
       "      <td>Minor</td>\n",
       "      <td>NaN</td>\n",
       "      <td>KH</td>\n",
       "      <td>2018</td>\n",
       "      <td>Case Management</td>\n",
       "      <td>KH</td>\n",
       "      <td>Sexual exploitation</td>\n",
       "      <td>Unknown</td>\n",
       "    </tr>\n",
       "    <tr>\n",
       "      <th>720623</th>\n",
       "      <td>Male</td>\n",
       "      <td>NaN</td>\n",
       "      <td>Minor</td>\n",
       "      <td>NaN</td>\n",
       "      <td>KH</td>\n",
       "      <td>2018</td>\n",
       "      <td>Case Management</td>\n",
       "      <td>KH</td>\n",
       "      <td>Sexual exploitation</td>\n",
       "      <td>Unknown</td>\n",
       "    </tr>\n",
       "    <tr>\n",
       "      <th>720624</th>\n",
       "      <td>Male</td>\n",
       "      <td>NaN</td>\n",
       "      <td>Minor</td>\n",
       "      <td>NaN</td>\n",
       "      <td>KH</td>\n",
       "      <td>2018</td>\n",
       "      <td>Case Management</td>\n",
       "      <td>KH</td>\n",
       "      <td>Sexual exploitation</td>\n",
       "      <td>Unknown</td>\n",
       "    </tr>\n",
       "    <tr>\n",
       "      <th>720625</th>\n",
       "      <td>Male</td>\n",
       "      <td>NaN</td>\n",
       "      <td>Minor</td>\n",
       "      <td>NaN</td>\n",
       "      <td>KH</td>\n",
       "      <td>2018</td>\n",
       "      <td>Case Management</td>\n",
       "      <td>KH</td>\n",
       "      <td>Sexual exploitation</td>\n",
       "      <td>Unknown</td>\n",
       "    </tr>\n",
       "    <tr>\n",
       "      <th>720626</th>\n",
       "      <td>Male</td>\n",
       "      <td>NaN</td>\n",
       "      <td>Minor</td>\n",
       "      <td>NaN</td>\n",
       "      <td>KH</td>\n",
       "      <td>2018</td>\n",
       "      <td>Case Management</td>\n",
       "      <td>KH</td>\n",
       "      <td>Sexual exploitation</td>\n",
       "      <td>Unknown</td>\n",
       "    </tr>\n",
       "    <tr>\n",
       "      <th>720627</th>\n",
       "      <td>Male</td>\n",
       "      <td>NaN</td>\n",
       "      <td>Minor</td>\n",
       "      <td>NaN</td>\n",
       "      <td>KH</td>\n",
       "      <td>2018</td>\n",
       "      <td>Case Management</td>\n",
       "      <td>KH</td>\n",
       "      <td>Sexual exploitation</td>\n",
       "      <td>Unknown</td>\n",
       "    </tr>\n",
       "    <tr>\n",
       "      <th>720628</th>\n",
       "      <td>Male</td>\n",
       "      <td>NaN</td>\n",
       "      <td>Minor</td>\n",
       "      <td>NaN</td>\n",
       "      <td>KH</td>\n",
       "      <td>2018</td>\n",
       "      <td>Case Management</td>\n",
       "      <td>KH</td>\n",
       "      <td>Sexual exploitation</td>\n",
       "      <td>Unknown</td>\n",
       "    </tr>\n",
       "    <tr>\n",
       "      <th>720629</th>\n",
       "      <td>Male</td>\n",
       "      <td>NaN</td>\n",
       "      <td>Minor</td>\n",
       "      <td>NaN</td>\n",
       "      <td>KH</td>\n",
       "      <td>2018</td>\n",
       "      <td>Case Management</td>\n",
       "      <td>KH</td>\n",
       "      <td>Sexual exploitation</td>\n",
       "      <td>Unknown</td>\n",
       "    </tr>\n",
       "    <tr>\n",
       "      <th>720630</th>\n",
       "      <td>Male</td>\n",
       "      <td>NaN</td>\n",
       "      <td>Minor</td>\n",
       "      <td>NaN</td>\n",
       "      <td>KH</td>\n",
       "      <td>2018</td>\n",
       "      <td>Case Management</td>\n",
       "      <td>KH</td>\n",
       "      <td>Sexual exploitation</td>\n",
       "      <td>Unknown</td>\n",
       "    </tr>\n",
       "    <tr>\n",
       "      <th>720631</th>\n",
       "      <td>Male</td>\n",
       "      <td>NaN</td>\n",
       "      <td>Minor</td>\n",
       "      <td>NaN</td>\n",
       "      <td>KH</td>\n",
       "      <td>2018</td>\n",
       "      <td>Case Management</td>\n",
       "      <td>KH</td>\n",
       "      <td>Sexual exploitation</td>\n",
       "      <td>Unknown</td>\n",
       "    </tr>\n",
       "    <tr>\n",
       "      <th>720632</th>\n",
       "      <td>Male</td>\n",
       "      <td>NaN</td>\n",
       "      <td>Minor</td>\n",
       "      <td>NaN</td>\n",
       "      <td>KH</td>\n",
       "      <td>2018</td>\n",
       "      <td>Case Management</td>\n",
       "      <td>KH</td>\n",
       "      <td>Sexual exploitation</td>\n",
       "      <td>Unknown</td>\n",
       "    </tr>\n",
       "    <tr>\n",
       "      <th>720633</th>\n",
       "      <td>Male</td>\n",
       "      <td>NaN</td>\n",
       "      <td>Minor</td>\n",
       "      <td>NaN</td>\n",
       "      <td>KH</td>\n",
       "      <td>2018</td>\n",
       "      <td>Case Management</td>\n",
       "      <td>KH</td>\n",
       "      <td>Sexual exploitation</td>\n",
       "      <td>Unknown</td>\n",
       "    </tr>\n",
       "    <tr>\n",
       "      <th>720634</th>\n",
       "      <td>Male</td>\n",
       "      <td>NaN</td>\n",
       "      <td>Minor</td>\n",
       "      <td>NaN</td>\n",
       "      <td>KH</td>\n",
       "      <td>2018</td>\n",
       "      <td>Case Management</td>\n",
       "      <td>KH</td>\n",
       "      <td>Sexual exploitation</td>\n",
       "      <td>Unknown</td>\n",
       "    </tr>\n",
       "    <tr>\n",
       "      <th>720635</th>\n",
       "      <td>Male</td>\n",
       "      <td>NaN</td>\n",
       "      <td>Minor</td>\n",
       "      <td>NaN</td>\n",
       "      <td>KH</td>\n",
       "      <td>2018</td>\n",
       "      <td>Case Management</td>\n",
       "      <td>KH</td>\n",
       "      <td>Sexual exploitation</td>\n",
       "      <td>Unknown</td>\n",
       "    </tr>\n",
       "    <tr>\n",
       "      <th>720636</th>\n",
       "      <td>Male</td>\n",
       "      <td>NaN</td>\n",
       "      <td>Minor</td>\n",
       "      <td>NaN</td>\n",
       "      <td>KH</td>\n",
       "      <td>2018</td>\n",
       "      <td>Case Management</td>\n",
       "      <td>KH</td>\n",
       "      <td>Sexual exploitation</td>\n",
       "      <td>Unknown</td>\n",
       "    </tr>\n",
       "    <tr>\n",
       "      <th>720637</th>\n",
       "      <td>Male</td>\n",
       "      <td>NaN</td>\n",
       "      <td>Minor</td>\n",
       "      <td>NaN</td>\n",
       "      <td>KH</td>\n",
       "      <td>2018</td>\n",
       "      <td>Case Management</td>\n",
       "      <td>KH</td>\n",
       "      <td>Sexual exploitation</td>\n",
       "      <td>Unknown</td>\n",
       "    </tr>\n",
       "    <tr>\n",
       "      <th>720638</th>\n",
       "      <td>Male</td>\n",
       "      <td>NaN</td>\n",
       "      <td>Minor</td>\n",
       "      <td>NaN</td>\n",
       "      <td>KH</td>\n",
       "      <td>2018</td>\n",
       "      <td>Case Management</td>\n",
       "      <td>KH</td>\n",
       "      <td>Sexual exploitation</td>\n",
       "      <td>Unknown</td>\n",
       "    </tr>\n",
       "    <tr>\n",
       "      <th>720639</th>\n",
       "      <td>Male</td>\n",
       "      <td>NaN</td>\n",
       "      <td>Minor</td>\n",
       "      <td>NaN</td>\n",
       "      <td>KH</td>\n",
       "      <td>2018</td>\n",
       "      <td>Case Management</td>\n",
       "      <td>KH</td>\n",
       "      <td>Sexual exploitation</td>\n",
       "      <td>Unknown</td>\n",
       "    </tr>\n",
       "    <tr>\n",
       "      <th>720640</th>\n",
       "      <td>Male</td>\n",
       "      <td>NaN</td>\n",
       "      <td>Minor</td>\n",
       "      <td>NaN</td>\n",
       "      <td>KH</td>\n",
       "      <td>2018</td>\n",
       "      <td>Case Management</td>\n",
       "      <td>KH</td>\n",
       "      <td>Sexual exploitation</td>\n",
       "      <td>Unknown</td>\n",
       "    </tr>\n",
       "    <tr>\n",
       "      <th>720641</th>\n",
       "      <td>Male</td>\n",
       "      <td>NaN</td>\n",
       "      <td>Adult</td>\n",
       "      <td>NaN</td>\n",
       "      <td>KH</td>\n",
       "      <td>2018</td>\n",
       "      <td>Case Management</td>\n",
       "      <td>KH</td>\n",
       "      <td>Sexual exploitation</td>\n",
       "      <td>Unknown</td>\n",
       "    </tr>\n",
       "  </tbody>\n",
       "</table>\n",
       "<p>720642 rows × 10 columns</p>\n",
       "</div>"
      ],
      "text/plain": [
       "        Gender Entry Age Exploitation Age Assistance Age Country Origin  \\\n",
       "0          NaN       NaN              NaN            NaN            NaN   \n",
       "1          NaN       NaN              NaN            NaN            NaN   \n",
       "2          NaN       NaN              NaN            NaN            NaN   \n",
       "3          NaN       NaN              NaN            NaN            NaN   \n",
       "4          NaN       NaN              NaN            NaN            NaN   \n",
       "5          NaN       NaN              NaN            NaN            NaN   \n",
       "6          NaN       NaN              NaN            NaN            NaN   \n",
       "7          NaN       NaN              NaN            NaN            NaN   \n",
       "8          NaN       NaN              NaN            NaN            NaN   \n",
       "9          NaN       NaN              NaN            NaN            NaN   \n",
       "10         NaN       NaN              NaN            NaN            NaN   \n",
       "11         NaN       NaN              NaN            NaN            NaN   \n",
       "12         NaN       NaN              NaN            NaN            NaN   \n",
       "13      Female       NaN              NaN         18--20             CO   \n",
       "14      Female       NaN              NaN         18--20             CO   \n",
       "15      Female       NaN              NaN         18--20             CO   \n",
       "16      Female       NaN              NaN         18--20             CO   \n",
       "17      Female       NaN              NaN         18--20             CO   \n",
       "18      Female       NaN              NaN         18--20             CO   \n",
       "19      Female       NaN              NaN         18--20             CO   \n",
       "20      Female       NaN              NaN         18--20             CO   \n",
       "21      Female       NaN              NaN         18--20             CO   \n",
       "22      Female       NaN              NaN         18--20             CO   \n",
       "23      Female       NaN              NaN         18--20             CO   \n",
       "24      Female       NaN              NaN         18--20             MD   \n",
       "25      Female       NaN              NaN         18--20             MD   \n",
       "26      Female       NaN              NaN         18--20             MD   \n",
       "27      Female       NaN              NaN         18--20             MD   \n",
       "28      Female       NaN              NaN         18--20             MD   \n",
       "29      Female       NaN              NaN         18--20             MD   \n",
       "...        ...       ...              ...            ...            ...   \n",
       "720612    Male       NaN              NaN            NaN             KH   \n",
       "720613    Male       NaN            Minor            NaN             KH   \n",
       "720614    Male       NaN              NaN            NaN             KH   \n",
       "720615    Male       NaN            Minor            NaN             KH   \n",
       "720616    Male       NaN            Minor            NaN             KH   \n",
       "720617    Male       NaN            Minor            NaN             KH   \n",
       "720618    Male       NaN            Minor            NaN             KH   \n",
       "720619    Male       NaN            Minor            NaN             KH   \n",
       "720620    Male       NaN            Minor            NaN             KH   \n",
       "720621    Male       NaN            Minor            NaN             KH   \n",
       "720622    Male       NaN            Minor            NaN             KH   \n",
       "720623    Male       NaN            Minor            NaN             KH   \n",
       "720624    Male       NaN            Minor            NaN             KH   \n",
       "720625    Male       NaN            Minor            NaN             KH   \n",
       "720626    Male       NaN            Minor            NaN             KH   \n",
       "720627    Male       NaN            Minor            NaN             KH   \n",
       "720628    Male       NaN            Minor            NaN             KH   \n",
       "720629    Male       NaN            Minor            NaN             KH   \n",
       "720630    Male       NaN            Minor            NaN             KH   \n",
       "720631    Male       NaN            Minor            NaN             KH   \n",
       "720632    Male       NaN            Minor            NaN             KH   \n",
       "720633    Male       NaN            Minor            NaN             KH   \n",
       "720634    Male       NaN            Minor            NaN             KH   \n",
       "720635    Male       NaN            Minor            NaN             KH   \n",
       "720636    Male       NaN            Minor            NaN             KH   \n",
       "720637    Male       NaN            Minor            NaN             KH   \n",
       "720638    Male       NaN            Minor            NaN             KH   \n",
       "720639    Male       NaN            Minor            NaN             KH   \n",
       "720640    Male       NaN            Minor            NaN             KH   \n",
       "720641    Male       NaN            Adult            NaN             KH   \n",
       "\n",
       "        Year Registration   Contact Method Country Exploitation  \\\n",
       "0                    2002  Case Management                  NaN   \n",
       "1                    2002  Case Management                  NaN   \n",
       "2                    2002  Case Management                  NaN   \n",
       "3                    2002  Case Management                  NaN   \n",
       "4                    2002  Case Management                  NaN   \n",
       "5                    2002  Case Management                  NaN   \n",
       "6                    2002  Case Management                  NaN   \n",
       "7                    2002  Case Management                  NaN   \n",
       "8                    2002  Case Management                  NaN   \n",
       "9                    2002  Case Management                  NaN   \n",
       "10                   2002  Case Management                  NaN   \n",
       "11                   2002  Case Management                  NaN   \n",
       "12                   2002  Case Management                  NaN   \n",
       "13                   2002  Case Management                  NaN   \n",
       "14                   2002  Case Management                  NaN   \n",
       "15                   2002  Case Management                  NaN   \n",
       "16                   2002  Case Management                  NaN   \n",
       "17                   2002  Case Management                  NaN   \n",
       "18                   2002  Case Management                  NaN   \n",
       "19                   2002  Case Management                  NaN   \n",
       "20                   2002  Case Management                  NaN   \n",
       "21                   2002  Case Management                  NaN   \n",
       "22                   2002  Case Management                  NaN   \n",
       "23                   2002  Case Management                  NaN   \n",
       "24                   2002  Case Management                  NaN   \n",
       "25                   2002  Case Management                  NaN   \n",
       "26                   2002  Case Management                  NaN   \n",
       "27                   2002  Case Management                  NaN   \n",
       "28                   2002  Case Management                  NaN   \n",
       "29                   2002  Case Management                  NaN   \n",
       "...                   ...              ...                  ...   \n",
       "720612               2018  Case Management                   KH   \n",
       "720613               2018  Case Management                   KH   \n",
       "720614               2018  Case Management                   KH   \n",
       "720615               2018  Case Management                   KH   \n",
       "720616               2018  Case Management                   KH   \n",
       "720617               2018  Case Management                   KH   \n",
       "720618               2018  Case Management                   KH   \n",
       "720619               2018  Case Management                   KH   \n",
       "720620               2018  Case Management                   KH   \n",
       "720621               2018  Case Management                   KH   \n",
       "720622               2018  Case Management                   KH   \n",
       "720623               2018  Case Management                   KH   \n",
       "720624               2018  Case Management                   KH   \n",
       "720625               2018  Case Management                   KH   \n",
       "720626               2018  Case Management                   KH   \n",
       "720627               2018  Case Management                   KH   \n",
       "720628               2018  Case Management                   KH   \n",
       "720629               2018  Case Management                   KH   \n",
       "720630               2018  Case Management                   KH   \n",
       "720631               2018  Case Management                   KH   \n",
       "720632               2018  Case Management                   KH   \n",
       "720633               2018  Case Management                   KH   \n",
       "720634               2018  Case Management                   KH   \n",
       "720635               2018  Case Management                   KH   \n",
       "720636               2018  Case Management                   KH   \n",
       "720637               2018  Case Management                   KH   \n",
       "720638               2018  Case Management                   KH   \n",
       "720639               2018  Case Management                   KH   \n",
       "720640               2018  Case Management                   KH   \n",
       "720641               2018  Case Management                   KH   \n",
       "\n",
       "          Exploitation Type Recruiter Relation  \n",
       "0                       NaN               None  \n",
       "1                       NaN               None  \n",
       "2                       NaN               None  \n",
       "3                       NaN               None  \n",
       "4                       NaN               None  \n",
       "5                       NaN               None  \n",
       "6                       NaN               None  \n",
       "7                       NaN               None  \n",
       "8                       NaN               None  \n",
       "9                       NaN               None  \n",
       "10                      NaN               None  \n",
       "11                      NaN               None  \n",
       "12                      NaN               None  \n",
       "13      Sexual exploitation               None  \n",
       "14      Sexual exploitation               None  \n",
       "15      Sexual exploitation               None  \n",
       "16      Sexual exploitation               None  \n",
       "17      Sexual exploitation               None  \n",
       "18      Sexual exploitation               None  \n",
       "19      Sexual exploitation               None  \n",
       "20      Sexual exploitation               None  \n",
       "21      Sexual exploitation               None  \n",
       "22      Sexual exploitation               None  \n",
       "23      Sexual exploitation               None  \n",
       "24                      NaN               None  \n",
       "25                      NaN               None  \n",
       "26                      NaN               None  \n",
       "27                      NaN               None  \n",
       "28                      NaN               None  \n",
       "29                      NaN               None  \n",
       "...                     ...                ...  \n",
       "720612  Sexual exploitation            Unknown  \n",
       "720613  Sexual exploitation            Unknown  \n",
       "720614  Sexual exploitation            Unknown  \n",
       "720615  Sexual exploitation            Unknown  \n",
       "720616  Sexual exploitation            Unknown  \n",
       "720617  Sexual exploitation            Unknown  \n",
       "720618  Sexual exploitation            Unknown  \n",
       "720619  Sexual exploitation            Unknown  \n",
       "720620  Sexual exploitation            Unknown  \n",
       "720621  Sexual exploitation            Unknown  \n",
       "720622  Sexual exploitation            Unknown  \n",
       "720623  Sexual exploitation            Unknown  \n",
       "720624  Sexual exploitation            Unknown  \n",
       "720625  Sexual exploitation            Unknown  \n",
       "720626  Sexual exploitation            Unknown  \n",
       "720627  Sexual exploitation            Unknown  \n",
       "720628  Sexual exploitation            Unknown  \n",
       "720629  Sexual exploitation            Unknown  \n",
       "720630  Sexual exploitation            Unknown  \n",
       "720631  Sexual exploitation            Unknown  \n",
       "720632  Sexual exploitation            Unknown  \n",
       "720633  Sexual exploitation            Unknown  \n",
       "720634  Sexual exploitation            Unknown  \n",
       "720635  Sexual exploitation            Unknown  \n",
       "720636  Sexual exploitation            Unknown  \n",
       "720637  Sexual exploitation            Unknown  \n",
       "720638  Sexual exploitation            Unknown  \n",
       "720639  Sexual exploitation            Unknown  \n",
       "720640  Sexual exploitation            Unknown  \n",
       "720641  Sexual exploitation            Unknown  \n",
       "\n",
       "[720642 rows x 10 columns]"
      ]
     },
     "execution_count": 7,
     "metadata": {},
     "output_type": "execute_result"
    }
   ],
   "source": [
    "df"
   ]
  },
  {
   "cell_type": "markdown",
   "metadata": {},
   "source": [
    "# Counter-Trafficking Data Collaborative"
   ]
  },
  {
   "cell_type": "markdown",
   "metadata": {},
   "source": [
    "The Counter-Trafficking Data Collaborative (CTDC) is the first global data hub on human trafficking, publishing harmonized data from counter-trafficking organizations around the world. Launched in November 2017, the goal of CTDC is to break down information-sharing barriers and equip the counter-trafficking community with up to date, reliable data on human trafficking. CTDC data has so far been accessed by users in over 150 countries and territories.\n",
    "\n",
    "Historically, it has been difficult to make data on human trafficking readily accessible to analysts, academics, practitioners and policy-makers. It is widely recognized that one of the foremost challenges in developing targeted counter-trafficking responses and measuring their impact is the lack of reliable, high-quality information. Data on human trafficking are often highly sensitive, raising a range of privacy and civil liberty concerns where the risk of identifying data subjects can be high and the consequences severe. For the first time, CTDC leverages modern technology to overcome these obstacles allow unprecedented public access to the world’s largest datasets on human trafficking. Bringing together global data in one platform will strengthen and empower local, national and international institutions to eradicate crimes of trafficking and exploitation.\n",
    "\n",
    "You can stay up to date with Counter-Trafficking Data Collaborative by visiting their site at https://www.ctdatacollaborative.org."
   ]
  },
  {
   "cell_type": "markdown",
   "metadata": {},
   "source": [
    "# THE VICTIMS"
   ]
  },
  {
   "cell_type": "markdown",
   "metadata": {},
   "source": [
    "### YEAR OF REGISTRATION"
   ]
  },
  {
   "cell_type": "code",
   "execution_count": 8,
   "metadata": {},
   "outputs": [
    {
     "data": {
      "text/plain": [
       "<seaborn.axisgrid.FacetGrid at 0x1a3aa44860>"
      ]
     },
     "execution_count": 8,
     "metadata": {},
     "output_type": "execute_result"
    },
    {
     "data": {
      "image/png": "[encoded data removed]",
      "text/plain": [
       "<Figure size 864x432 with 1 Axes>"
      ]
     },
     "metadata": {
      "needs_background": "light"
     },
     "output_type": "display_data"
    }
   ],
   "source": [
    "sns.catplot(\n",
    "    x=\"Year Registration\",\n",
    "    data=df,\n",
    "    kind=\"count\",\n",
    "    height=6,\n",
    "    aspect=2,\n",
    ")"
   ]
  },
  {
   "cell_type": "markdown",
   "metadata": {},
   "source": [
    "The year in which the individual was registered and assisted by IOM or the year in which Polaris first received a report of the individual’s trafficking situation, or the date of entry into Liberty Asia’s VCMS.\n",
    "\n",
    "This graph reflects the overall trend of reporting over the past 16 years (note this is NOT reflecting the total amount of people trafficked, just the people that have documented databases). The catplot shows how few human trafficking reports their were submitted from 2002 to 2014. This could be due to a number a factors including limited reporting resources and decreased awareness. The amount of reports significantly increased between 2015 and 2017. The numbers in 2018 are inconclusive being that the report was generated in September of 2018 and even the dataset representing only a fraction of the year of 2018."
   ]
  },
  {
   "cell_type": "markdown",
   "metadata": {},
   "source": [
    "### INITIAL CONTACT METHOD BETWEEN VICTIMS AND RESPONDERS"
   ]
  },
  {
   "cell_type": "code",
   "execution_count": 9,
   "metadata": {},
   "outputs": [
    {
     "data": {
      "text/plain": [
       "<seaborn.axisgrid.FacetGrid at 0x1a339740b8>"
      ]
     },
     "execution_count": 9,
     "metadata": {},
     "output_type": "execute_result"
    },
    {
     "data": {
      "image/png": "[encoded data removed]",
      "text/plain": [
       "<Figure size 864x432 with 1 Axes>"
      ]
     },
     "metadata": {
      "needs_background": "light"
     },
     "output_type": "display_data"
    }
   ],
   "source": [
    "sns.catplot(\n",
    "    x=\"Contact Method\",\n",
    "    data=df,\n",
    "    kind=\"count\",\n",
    "    height=6,\n",
    "    aspect=2,\n",
    ")"
   ]
  },
  {
   "cell_type": "markdown",
   "metadata": {},
   "source": [
    "Data collection method about the victims, which generally reflects the services provided to victims.\n",
    "\n",
    "- Case management: Individual recieved social services from an agency in person.\n",
    "- Hotline: Individual received services, was referred to services, or was reported to a helpline through a remote means of communication such as a phone call, text message, online form report, or email."
   ]
  },
  {
   "cell_type": "markdown",
   "metadata": {},
   "source": [
    "# WHO ARE THEY?"
   ]
  },
  {
   "cell_type": "markdown",
   "metadata": {},
   "source": [
    "### GENDER OF VICTIMS"
   ]
  },
  {
   "cell_type": "code",
   "execution_count": 10,
   "metadata": {},
   "outputs": [
    {
     "data": {
      "text/plain": [
       "<seaborn.axisgrid.FacetGrid at 0x1a1c90ee80>"
      ]
     },
     "execution_count": 10,
     "metadata": {},
     "output_type": "execute_result"
    },
    {
     "data": {
      "image/png": "[encoded data removed]",
      "text/plain": [
       "<Figure size 864x432 with 1 Axes>"
      ]
     },
     "metadata": {
      "needs_background": "light"
     },
     "output_type": "display_data"
    }
   ],
   "source": [
    "sns.catplot(\n",
    "    x=\"Gender\",\n",
    "    data=df,\n",
    "    kind=\"count\",\n",
    "    height=6,\n",
    "    aspect=2,\n",
    ")"
   ]
  },
  {
   "cell_type": "markdown",
   "metadata": {},
   "source": [
    "Designates the individual's expression or condition of being male, female, both or neither. This category considers the psychological, behavioral, social, and cultural aspects of being male, female, or non-binary (masculinity, femininity, neither, or a combination of both).\n",
    "\n",
    "This goes without saying, but though males are, indeed, victims of human trafficking, females victims almost triple the amount of males victims among people being trafficked."
   ]
  },
  {
   "cell_type": "markdown",
   "metadata": {},
   "source": [
    "### AGE OF ASSISTANCE"
   ]
  },
  {
   "cell_type": "code",
   "execution_count": 11,
   "metadata": {},
   "outputs": [
    {
     "data": {
      "text/plain": [
       "<seaborn.axisgrid.FacetGrid at 0x1a3a789e48>"
      ]
     },
     "execution_count": 11,
     "metadata": {},
     "output_type": "execute_result"
    },
    {
     "data": {
      "image/png": "[encoded data removed]",
      "text/plain": [
       "<Figure size 864x432 with 1 Axes>"
      ]
     },
     "metadata": {
      "needs_background": "light"
     },
     "output_type": "display_data"
    }
   ],
   "source": [
    "sns.catplot(\n",
    "    x=\"Assistance Age\",\n",
    "    data=df,\n",
    "    kind=\"count\",\n",
    "    height=6,\n",
    "    aspect=2,\n",
    "    order= ('0--8', '9--17', '18--20', '21--23', '24--26', '27--29', '30--38', '39--47', '48+', 'Unknown'),\n",
    ")"
   ]
  },
  {
   "cell_type": "markdown",
   "metadata": {},
   "source": [
    "The graph shows the individual's age at the time the individual was registered and assisted by IOM, or Polaris first received a report of the individual’s trafficking situation, or at first point of contact with Liberty Asia’s NGO partner. Note that this is not the age in which someone was first exploited, which means by the time a case is a reported (reflected above in terms of the victims age) the victim could have already been exploited for an extended period of time (e.g. months, years, etc.)."
   ]
  },
  {
   "cell_type": "markdown",
   "metadata": {},
   "source": [
    "### AGE OF ASSISTANCE PER GENDER"
   ]
  },
  {
   "cell_type": "code",
   "execution_count": 12,
   "metadata": {},
   "outputs": [
    {
     "data": {
      "text/plain": [
       "<seaborn.axisgrid.FacetGrid at 0x1a2e9c07f0>"
      ]
     },
     "execution_count": 12,
     "metadata": {},
     "output_type": "execute_result"
    },
    {
     "data": {
      "image/png": "[encoded data removed]",
      "text/plain": [
       "<Figure size 946.375x432 with 1 Axes>"
      ]
     },
     "metadata": {
      "needs_background": "light"
     },
     "output_type": "display_data"
    }
   ],
   "source": [
    "sns.catplot(\n",
    "    x=\"Assistance Age\",\n",
    "    hue=\"Gender\",\n",
    "    data=df,\n",
    "    kind=\"count\",\n",
    "    height=6,\n",
    "    aspect=2,\n",
    "    order= ('0--8', '9--17', '18--20', '21--23', '24--26', '27--29', '30--38', '39--47', '48+', 'Unknown'),\n",
    ")"
   ]
  },
  {
   "cell_type": "markdown",
   "metadata": {},
   "source": [
    "This graph is telling because it shows that the ratio between men and women victims when they are first reported a victim of trafficking is closer to 50% in groups 0-8, 30-38, 39-47, and 48+. But among the ages 9-29 there is a significant more amount of women than men that are victims of human trafficking.\n",
    "\n",
    "Yet, this graph is slightly misleading because from it one would immediately assume the greatest number of reported victims is 9-17 years. But if we combine ages 18-29 we get the following graph.."
   ]
  },
  {
   "cell_type": "markdown",
   "metadata": {},
   "source": [
    "### AGE OF ASSISTANCE - COMBINING AGES 18-29"
   ]
  },
  {
   "cell_type": "markdown",
   "metadata": {},
   "source": [
    "CODE to combine all four groups."
   ]
  },
  {
   "cell_type": "code",
   "execution_count": 23,
   "metadata": {},
   "outputs": [],
   "source": [
    "df.loc[(df[\"Assistance Age\"] == \"18--20\") | \n",
    "      (df[\"Assistance Age\"] == \"21--23\") |\n",
    "      (df[\"Assistance Age\"] == \"24--26\") |\n",
    "      (df[\"Assistance Age\"] == \"27--29\"),\n",
    "      \"Assistance Age\"] = \"18--29\""
   ]
  },
  {
   "cell_type": "code",
   "execution_count": 22,
   "metadata": {},
   "outputs": [
    {
     "data": {
      "text/plain": [
       "<seaborn.axisgrid.FacetGrid at 0x1a38cf89b0>"
      ]
     },
     "execution_count": 22,
     "metadata": {},
     "output_type": "execute_result"
    },
    {
     "data": {
      "image/png": "[encoded data removed]",
      "text/plain": [
       "<Figure size 946.375x432 with 1 Axes>"
      ]
     },
     "metadata": {
      "needs_background": "light"
     },
     "output_type": "display_data"
    }
   ],
   "source": [
    "sns.catplot(\n",
    "    x=\"Assistance Age\",\n",
    "    hue=\"Gender\",\n",
    "    data=df,\n",
    "    kind=\"count\",\n",
    "    height=6,\n",
    "    aspect=2,\n",
    "    order= ('0--8', '9--17', '18--29', '30--38', '39--47', '48+', 'Unknown'),\n",
    ")"
   ]
  },
  {
   "cell_type": "markdown",
   "metadata": {},
   "source": [
    "This graph is more accurate concerning the the Age of Assistance among database documented cases because it shows that the vast amount of females are beginning to recieve help between 18-29 years old. Yet, most victims of human trafficking are trafficked before they are 18 years old as the graph below will show. "
   ]
  },
  {
   "cell_type": "markdown",
   "metadata": {},
   "source": [
    "### AGE OF EXPLOITATION"
   ]
  },
  {
   "cell_type": "code",
   "execution_count": 16,
   "metadata": {},
   "outputs": [
    {
     "data": {
      "text/plain": [
       "<seaborn.axisgrid.FacetGrid at 0x1a3a4e3940>"
      ]
     },
     "execution_count": 16,
     "metadata": {},
     "output_type": "execute_result"
    },
    {
     "data": {
      "image/png": "[encoded data removed]",
      "text/plain": [
       "<Figure size 864x432 with 1 Axes>"
      ]
     },
     "metadata": {
      "needs_background": "light"
     },
     "output_type": "display_data"
    }
   ],
   "source": [
    "sns.catplot(\n",
    "    x=\"Exploitation Age\",\n",
    "    data=df,\n",
    "    kind=\"count\",\n",
    "    height=6,\n",
    "    aspect=2,\n",
    ")"
   ]
  },
  {
   "cell_type": "markdown",
   "metadata": {},
   "source": [
    "The individual's age at the time the exploitation of the individual began. Exploitation includes the exploitation of the prostitution of others or other forms of sexual exploitation, forced labour or services, slavery or practices similar to slavery, servitude or the removal of organs. Among known categories, the exploitation age of victims below 18 years of age almost doubles the victims who were exploited at the age of 18+.\n",
    "\n",
    "This chart shows that, from the database documented cases that we know about, most victims were trafficked before the age of 18. The graph below shows the same graph but distinguishes gender."
   ]
  },
  {
   "cell_type": "markdown",
   "metadata": {},
   "source": [
    "### AGE OF EXPLOITATION BASED ON GENDER"
   ]
  },
  {
   "cell_type": "code",
   "execution_count": 25,
   "metadata": {},
   "outputs": [
    {
     "data": {
      "text/plain": [
       "<seaborn.axisgrid.FacetGrid at 0x1a389a2c18>"
      ]
     },
     "execution_count": 25,
     "metadata": {},
     "output_type": "execute_result"
    },
    {
     "data": {
      "image/png": "[encoded data removed]",
      "text/plain": [
       "<Figure size 946.375x432 with 1 Axes>"
      ]
     },
     "metadata": {
      "needs_background": "light"
     },
     "output_type": "display_data"
    }
   ],
   "source": [
    "sns.catplot(\n",
    "    x=\"Exploitation Age\",\n",
    "    hue=\"Gender\",\n",
    "    data=df,\n",
    "    kind=\"count\",\n",
    "    height=6,\n",
    "    aspect=2,\n",
    ")"
   ]
  },
  {
   "cell_type": "markdown",
   "metadata": {},
   "source": [
    "As you can see in the above graph, males have roughly the same percentage between minors and adults with little variance in the unknown category, but female minors almost double the amount of adult females at the age of exploitation among documented database cases. But with such a high variance regarding unknown females we need to be careful not to come to quick conclusions being that it is statistically possible for adult females to exceed minor females."
   ]
  },
  {
   "cell_type": "markdown",
   "metadata": {},
   "source": [
    "### COUNTRY OF ORIGIN"
   ]
  },
  {
   "cell_type": "code",
   "execution_count": 17,
   "metadata": {},
   "outputs": [
    {
     "data": {
      "text/plain": [
       "<seaborn.axisgrid.FacetGrid at 0x1a3a54bbe0>"
      ]
     },
     "execution_count": 17,
     "metadata": {},
     "output_type": "execute_result"
    },
    {
     "data": {
      "image/png": "[encoded data removed]",
      "text/plain": [
       "<Figure size 1296x432 with 1 Axes>"
      ]
     },
     "metadata": {
      "needs_background": "light"
     },
     "output_type": "display_data"
    }
   ],
   "source": [
    "sns.catplot(\n",
    "    x=\"Country Origin\",\n",
    "    data=df,\n",
    "    kind=\"count\",\n",
    "    height=6,\n",
    "    aspect=3,\n",
    ")"
   ]
  },
  {
   "cell_type": "markdown",
   "metadata": {},
   "source": [
    "The set of rights and duties that a person has with a country because of his/her legal bond with the country. This term is often used interchangeably with nationality, however some states distinguish between nationality and citizenship and provide for different types of nationality of which citizenship is one form. Liberty Asia partners recording this as ‘Country of Origin’ as a proxy for citizenship due to this not being recorded. \n",
    "\n",
    "In short, this is WHERE the victims of human trafficking in documented databases are coming from.\n",
    "\n",
    "- Values based on ISO 3166-1 Alpha-2 Codes\n",
    "\n",
    "Country values worth mentioned, ranking from greatest number of victims to least:\n",
    "- 1) ZZ = Unknown Country\n",
    "- 2) PH = Philippines\n",
    "- 3) UA = Ukraine\n",
    "- 4) MD = Moldova\n",
    "- 5) US = United States\n",
    "- 6) KH = Cambodia\n",
    "- 7) ID = Indonesia\n",
    "- 8) BY = Belarus\n",
    "- 9) MM = Myanmar"
   ]
  },
  {
   "cell_type": "markdown",
   "metadata": {},
   "source": [
    "### COUNTRY OF EXPLOITATION"
   ]
  },
  {
   "cell_type": "code",
   "execution_count": 18,
   "metadata": {},
   "outputs": [
    {
     "data": {
      "text/plain": [
       "<seaborn.axisgrid.FacetGrid at 0x1a3a008860>"
      ]
     },
     "execution_count": 18,
     "metadata": {},
     "output_type": "execute_result"
    },
    {
     "data": {
      "image/png": "[encoded data removed]",
      "text/plain": [
       "<Figure size 1296x432 with 1 Axes>"
      ]
     },
     "metadata": {
      "needs_background": "light"
     },
     "output_type": "display_data"
    }
   ],
   "source": [
    "sns.catplot(\n",
    "    x=\"Country Exploitation\",\n",
    "    data=df,\n",
    "    kind=\"count\",\n",
    "    height=6,\n",
    "    aspect=3,\n",
    ")"
   ]
  },
  {
   "cell_type": "markdown",
   "metadata": {},
   "source": [
    "Indicates the last country where the victim was exploited. In the context of human trafficking data, this is also referred to as the “country of destination” (as opposed to “country of origin” if human trafficking was across borders). In instances where are no data for the last country of exploitation, a proxy has been created to capture as much data as possible about the country the victim was exploited in. The proxy uses data about the country in which the victim is first supported/assisted, identified and/or referred, which in the vast majority of cases is de facto the last country of exploitation. \n",
    "\n",
    "In short, this is WHERE victims of human trafficking are going among documented database cases.\n",
    "\n",
    "- Values based on ISO 3166-1 Alpha-2 Codes\n",
    "\n",
    "Country values worth mentioned, ranking from greatest number of victims to least:\n",
    "- 1) US = United States\n",
    "- 2) MD = Moldova\n",
    "- 3) UA = Ukraine\n",
    "- 4) RU = Russia\n",
    "- 5) PH = Philippines\n",
    "- 6) ID = Indonesia\n",
    "- 7) KH = Cambodia"
   ]
  },
  {
   "cell_type": "markdown",
   "metadata": {},
   "source": [
    "# WHY ARE THEY BEING TRAFFICKED?"
   ]
  },
  {
   "cell_type": "markdown",
   "metadata": {},
   "source": [
    "### EXPLOITATION TYPE"
   ]
  },
  {
   "cell_type": "code",
   "execution_count": 19,
   "metadata": {},
   "outputs": [
    {
     "data": {
      "text/plain": [
       "<seaborn.axisgrid.FacetGrid at 0x1a365712e8>"
      ]
     },
     "execution_count": 19,
     "metadata": {},
     "output_type": "execute_result"
    },
    {
     "data": {
      "image/png": "[encoded data removed]",
      "text/plain": [
       "<Figure size 1728x432 with 1 Axes>"
      ]
     },
     "metadata": {
      "needs_background": "light"
     },
     "output_type": "display_data"
    }
   ],
   "source": [
    "sns.catplot(\n",
    "    x=\"Exploitation Type\",\n",
    "    data=df,\n",
    "    kind=\"count\",\n",
    "    height=6,\n",
    "    aspect=4,\n",
    ")"
   ]
  },
  {
   "cell_type": "markdown",
   "metadata": {},
   "source": [
    "Concatenated list of the different types of exploitation positively identified.\n",
    "\n",
    "\"Sexual Exploitation\" indicates that the purpose for which a victim was trafficked was sexual services,\n",
    "such as the exploitation of the prostitution of an individual. Typically the exploiter(s) use force,\n",
    "fraud or coercion to achieve exploitation.\n",
    "\n",
    "\"Forced Labor\" indicates that the purpose for which a victim was trafficked was all work or service\n",
    "which was exacted from the individual, under the threat of a penalty and for which the individual\n",
    "has not offered himself or herself voluntarily. Sexual services are excluded from this definition.\n",
    "\n",
    "According to CTDC, category \"forced labor\" can include any of the following:\n",
    "- Agriculture/Farms/Animal Husbandry\n",
    "- Aquafarming/Fishing\n",
    "- Begging\n",
    "- Construction\n",
    "- Domestic Work\n",
    "- Hospitality/Restaurant/Food Service/Hotel\n",
    "- Illicit Activities\n",
    "- Manufacturing/Factory work\n",
    "- Mining, Quarrying, Oil/Gas Extraction\n",
    "- Peddling/informal street commerce\n",
    "- Transportation"
   ]
  },
  {
   "cell_type": "markdown",
   "metadata": {},
   "source": [
    "### EXPLOITATION TYPE PER GENDER"
   ]
  },
  {
   "cell_type": "code",
   "execution_count": 20,
   "metadata": {},
   "outputs": [
    {
     "data": {
      "text/plain": [
       "<seaborn.axisgrid.FacetGrid at 0x1a39cc16a0>"
      ]
     },
     "execution_count": 20,
     "metadata": {},
     "output_type": "execute_result"
    },
    {
     "data": {
      "image/png": "[encoded data removed]",
      "text/plain": [
       "<Figure size 1810.38x432 with 1 Axes>"
      ]
     },
     "metadata": {
      "needs_background": "light"
     },
     "output_type": "display_data"
    }
   ],
   "source": [
    "sns.catplot(\n",
    "    x=\"Exploitation Type\",\n",
    "    hue=\"Gender\",\n",
    "    data=df,\n",
    "    kind=\"count\",\n",
    "    height=6,\n",
    "    aspect=4,\n",
    ")"
   ]
  },
  {
   "cell_type": "markdown",
   "metadata": {},
   "source": [
    "As you can see in the above graph, among all the victims, sexual eploitation deals almost exclusively with females, where forced labor has a male majority, but is still close to 50%."
   ]
  },
  {
   "cell_type": "markdown",
   "metadata": {},
   "source": [
    "# WHOSE TRAFFICKING THEM?"
   ]
  },
  {
   "cell_type": "markdown",
   "metadata": {},
   "source": [
    "### RECRUITER RELATION"
   ]
  },
  {
   "cell_type": "code",
   "execution_count": 21,
   "metadata": {},
   "outputs": [
    {
     "data": {
      "text/plain": [
       "<seaborn.axisgrid.FacetGrid at 0x1a38d73048>"
      ]
     },
     "execution_count": 21,
     "metadata": {},
     "output_type": "execute_result"
    },
    {
     "data": {
      "image/png": "[encoded data removed]",
      "text/plain": [
       "<Figure size 1728x432 with 1 Axes>"
      ]
     },
     "metadata": {
      "needs_background": "light"
     },
     "output_type": "display_data"
    }
   ],
   "source": [
    "sns.catplot(\n",
    "    x=\"Recruiter Relation\",\n",
    "    data=df,\n",
    "    kind=\"count\",\n",
    "    height=6,\n",
    "    aspect=4,\n",
    ")"
   ]
  },
  {
   "cell_type": "markdown",
   "metadata": {},
   "source": [
    "Indicates whether a person who initially enticed or obtained the individual into the\n",
    "situation of exploitation was one with whom the individual has identified having a current or former romantic relationship.\n",
    "\n",
    "As is expected, the least amount of information is known about the recruiters of human trafficking."
   ]
  },
  {
   "cell_type": "markdown",
   "metadata": {},
   "source": [
    "# CONCLUSION"
   ]
  },
  {
   "cell_type": "markdown",
   "metadata": {},
   "source": [
    "This data is only what has been documented in a database. The actual numbers on the global scale are astronomically higher and this presentation neither gives an accurate nor an exhaustive presentation of the entire current global state of human trafficking. Many epicenters for human trafficking remain undiscovered, and for the many that are discovered, we still have very little data documented concerning them. Yet, much insight can be gained from this dataset. One example is comparing the victim's Country of Origin to their Country of Exploitation. Though we say America is the land of the free and the home of the brave, America is undisputedly the destination for the largest amount of database documented human trafficking cases in the entire world. Thus, among database documented cases, America is the incubator of the largest victim group of modern day slavery in the entire world. \n",
    "\n",
    "Another conclusion that can be mined from this data is that, though males are victims of human trafficking, females are by far the greatest victim group of human trafficking. The males that are trafficked are so mostly for the purpose of forced labor. Females on the other hand are trafficked mostly for sexual exploitation. \n",
    "\n",
    "Would we be brave enough to make that end?"
   ]
  }
 ],
 "metadata": {
  "kernelspec": {
   "display_name": "Python 3",
   "language": "python",
   "name": "python3"
  },
  "language_info": {
   "codemirror_mode": {
    "name": "ipython",
    "version": 3
   },
   "file_extension": ".py",
   "mimetype": "text/x-python",
   "name": "python",
   "nbconvert_exporter": "python",
   "pygments_lexer": "ipython3",
   "version": "3.7.1"
  }
 },
 "nbformat": 4,
 "nbformat_minor": 2
}
